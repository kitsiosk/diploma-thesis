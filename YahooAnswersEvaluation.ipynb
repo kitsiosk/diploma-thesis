{
  "nbformat": 4,
  "nbformat_minor": 0,
  "metadata": {
    "accelerator": "GPU",
    "colab": {
      "name": "YahooAnswersEvaluation.ipynb",
      "provenance": [],
      "collapsed_sections": [
        "cG-n1jD_1_wv"
      ]
    },
    "kernelspec": {
      "display_name": "Python 3",
      "name": "python3"
    },
    "widgets": {
      "application/vnd.jupyter.widget-state+json": {
        "0515083f07ee4d9c9c7bc17eb8beefb3": {
          "model_module": "@jupyter-widgets/controls",
          "model_name": "HBoxModel",
          "state": {
            "_view_name": "HBoxView",
            "_dom_classes": [],
            "_model_name": "HBoxModel",
            "_view_module": "@jupyter-widgets/controls",
            "_model_module_version": "1.5.0",
            "_view_count": null,
            "_view_module_version": "1.5.0",
            "box_style": "",
            "layout": "IPY_MODEL_8824aa34719f429f9d6aec3e1c8dcf53",
            "_model_module": "@jupyter-widgets/controls",
            "children": [
              "IPY_MODEL_6677caa197a04461b3f9026d3fd8fc2a",
              "IPY_MODEL_804f353323f54f768f67e6eb8652a4f0"
            ]
          }
        },
        "8824aa34719f429f9d6aec3e1c8dcf53": {
          "model_module": "@jupyter-widgets/base",
          "model_name": "LayoutModel",
          "state": {
            "_view_name": "LayoutView",
            "grid_template_rows": null,
            "right": null,
            "justify_content": null,
            "_view_module": "@jupyter-widgets/base",
            "overflow": null,
            "_model_module_version": "1.2.0",
            "_view_count": null,
            "flex_flow": null,
            "width": null,
            "min_width": null,
            "border": null,
            "align_items": null,
            "bottom": null,
            "_model_module": "@jupyter-widgets/base",
            "top": null,
            "grid_column": null,
            "overflow_y": null,
            "overflow_x": null,
            "grid_auto_flow": null,
            "grid_area": null,
            "grid_template_columns": null,
            "flex": null,
            "_model_name": "LayoutModel",
            "justify_items": null,
            "grid_row": null,
            "max_height": null,
            "align_content": null,
            "visibility": null,
            "align_self": null,
            "height": null,
            "min_height": null,
            "padding": null,
            "grid_auto_rows": null,
            "grid_gap": null,
            "max_width": null,
            "order": null,
            "_view_module_version": "1.2.0",
            "grid_template_areas": null,
            "object_position": null,
            "object_fit": null,
            "grid_auto_columns": null,
            "margin": null,
            "display": null,
            "left": null
          }
        },
        "6677caa197a04461b3f9026d3fd8fc2a": {
          "model_module": "@jupyter-widgets/controls",
          "model_name": "FloatProgressModel",
          "state": {
            "_view_name": "ProgressView",
            "style": "IPY_MODEL_e593a177bd7e43008f9a1f5c98dae528",
            "_dom_classes": [],
            "description": "Downloading: 100%",
            "_model_name": "FloatProgressModel",
            "bar_style": "success",
            "max": 1042301,
            "_view_module": "@jupyter-widgets/controls",
            "_model_module_version": "1.5.0",
            "value": 1042301,
            "_view_count": null,
            "_view_module_version": "1.5.0",
            "orientation": "horizontal",
            "min": 0,
            "description_tooltip": null,
            "_model_module": "@jupyter-widgets/controls",
            "layout": "IPY_MODEL_7481ea21c57c423e91341467e23ec558"
          }
        },
        "804f353323f54f768f67e6eb8652a4f0": {
          "model_module": "@jupyter-widgets/controls",
          "model_name": "HTMLModel",
          "state": {
            "_view_name": "HTMLView",
            "style": "IPY_MODEL_a086844e8d4f4311b00c2d4d535bd7da",
            "_dom_classes": [],
            "description": "",
            "_model_name": "HTMLModel",
            "placeholder": "​",
            "_view_module": "@jupyter-widgets/controls",
            "_model_module_version": "1.5.0",
            "value": " 1.04M/1.04M [00:00&lt;00:00, 4.98MB/s]",
            "_view_count": null,
            "_view_module_version": "1.5.0",
            "description_tooltip": null,
            "_model_module": "@jupyter-widgets/controls",
            "layout": "IPY_MODEL_c79fc032790942adb3fedbb73f6a8e7c"
          }
        },
        "e593a177bd7e43008f9a1f5c98dae528": {
          "model_module": "@jupyter-widgets/controls",
          "model_name": "ProgressStyleModel",
          "state": {
            "_view_name": "StyleView",
            "_model_name": "ProgressStyleModel",
            "description_width": "initial",
            "_view_module": "@jupyter-widgets/base",
            "_model_module_version": "1.5.0",
            "_view_count": null,
            "_view_module_version": "1.2.0",
            "bar_color": null,
            "_model_module": "@jupyter-widgets/controls"
          }
        },
        "7481ea21c57c423e91341467e23ec558": {
          "model_module": "@jupyter-widgets/base",
          "model_name": "LayoutModel",
          "state": {
            "_view_name": "LayoutView",
            "grid_template_rows": null,
            "right": null,
            "justify_content": null,
            "_view_module": "@jupyter-widgets/base",
            "overflow": null,
            "_model_module_version": "1.2.0",
            "_view_count": null,
            "flex_flow": null,
            "width": null,
            "min_width": null,
            "border": null,
            "align_items": null,
            "bottom": null,
            "_model_module": "@jupyter-widgets/base",
            "top": null,
            "grid_column": null,
            "overflow_y": null,
            "overflow_x": null,
            "grid_auto_flow": null,
            "grid_area": null,
            "grid_template_columns": null,
            "flex": null,
            "_model_name": "LayoutModel",
            "justify_items": null,
            "grid_row": null,
            "max_height": null,
            "align_content": null,
            "visibility": null,
            "align_self": null,
            "height": null,
            "min_height": null,
            "padding": null,
            "grid_auto_rows": null,
            "grid_gap": null,
            "max_width": null,
            "order": null,
            "_view_module_version": "1.2.0",
            "grid_template_areas": null,
            "object_position": null,
            "object_fit": null,
            "grid_auto_columns": null,
            "margin": null,
            "display": null,
            "left": null
          }
        },
        "a086844e8d4f4311b00c2d4d535bd7da": {
          "model_module": "@jupyter-widgets/controls",
          "model_name": "DescriptionStyleModel",
          "state": {
            "_view_name": "StyleView",
            "_model_name": "DescriptionStyleModel",
            "description_width": "",
            "_view_module": "@jupyter-widgets/base",
            "_model_module_version": "1.5.0",
            "_view_count": null,
            "_view_module_version": "1.2.0",
            "_model_module": "@jupyter-widgets/controls"
          }
        },
        "c79fc032790942adb3fedbb73f6a8e7c": {
          "model_module": "@jupyter-widgets/base",
          "model_name": "LayoutModel",
          "state": {
            "_view_name": "LayoutView",
            "grid_template_rows": null,
            "right": null,
            "justify_content": null,
            "_view_module": "@jupyter-widgets/base",
            "overflow": null,
            "_model_module_version": "1.2.0",
            "_view_count": null,
            "flex_flow": null,
            "width": null,
            "min_width": null,
            "border": null,
            "align_items": null,
            "bottom": null,
            "_model_module": "@jupyter-widgets/base",
            "top": null,
            "grid_column": null,
            "overflow_y": null,
            "overflow_x": null,
            "grid_auto_flow": null,
            "grid_area": null,
            "grid_template_columns": null,
            "flex": null,
            "_model_name": "LayoutModel",
            "justify_items": null,
            "grid_row": null,
            "max_height": null,
            "align_content": null,
            "visibility": null,
            "align_self": null,
            "height": null,
            "min_height": null,
            "padding": null,
            "grid_auto_rows": null,
            "grid_gap": null,
            "max_width": null,
            "order": null,
            "_view_module_version": "1.2.0",
            "grid_template_areas": null,
            "object_position": null,
            "object_fit": null,
            "grid_auto_columns": null,
            "margin": null,
            "display": null,
            "left": null
          }
        },
        "b1a0334f394b46129158f1be2f8b28d4": {
          "model_module": "@jupyter-widgets/controls",
          "model_name": "HBoxModel",
          "state": {
            "_view_name": "HBoxView",
            "_dom_classes": [],
            "_model_name": "HBoxModel",
            "_view_module": "@jupyter-widgets/controls",
            "_model_module_version": "1.5.0",
            "_view_count": null,
            "_view_module_version": "1.5.0",
            "box_style": "",
            "layout": "IPY_MODEL_e8ffb65c266c4caea0bfebda6049a9d5",
            "_model_module": "@jupyter-widgets/controls",
            "children": [
              "IPY_MODEL_b06f4d39103648da9d5a33b1819874aa",
              "IPY_MODEL_b6250931836445d5863124134de71278"
            ]
          }
        },
        "e8ffb65c266c4caea0bfebda6049a9d5": {
          "model_module": "@jupyter-widgets/base",
          "model_name": "LayoutModel",
          "state": {
            "_view_name": "LayoutView",
            "grid_template_rows": null,
            "right": null,
            "justify_content": null,
            "_view_module": "@jupyter-widgets/base",
            "overflow": null,
            "_model_module_version": "1.2.0",
            "_view_count": null,
            "flex_flow": null,
            "width": null,
            "min_width": null,
            "border": null,
            "align_items": null,
            "bottom": null,
            "_model_module": "@jupyter-widgets/base",
            "top": null,
            "grid_column": null,
            "overflow_y": null,
            "overflow_x": null,
            "grid_auto_flow": null,
            "grid_area": null,
            "grid_template_columns": null,
            "flex": null,
            "_model_name": "LayoutModel",
            "justify_items": null,
            "grid_row": null,
            "max_height": null,
            "align_content": null,
            "visibility": null,
            "align_self": null,
            "height": null,
            "min_height": null,
            "padding": null,
            "grid_auto_rows": null,
            "grid_gap": null,
            "max_width": null,
            "order": null,
            "_view_module_version": "1.2.0",
            "grid_template_areas": null,
            "object_position": null,
            "object_fit": null,
            "grid_auto_columns": null,
            "margin": null,
            "display": null,
            "left": null
          }
        },
        "b06f4d39103648da9d5a33b1819874aa": {
          "model_module": "@jupyter-widgets/controls",
          "model_name": "FloatProgressModel",
          "state": {
            "_view_name": "ProgressView",
            "style": "IPY_MODEL_a047a98583b04abaad73c284dc59aa26",
            "_dom_classes": [],
            "description": "Downloading: 100%",
            "_model_name": "FloatProgressModel",
            "bar_style": "success",
            "max": 456318,
            "_view_module": "@jupyter-widgets/controls",
            "_model_module_version": "1.5.0",
            "value": 456318,
            "_view_count": null,
            "_view_module_version": "1.5.0",
            "orientation": "horizontal",
            "min": 0,
            "description_tooltip": null,
            "_model_module": "@jupyter-widgets/controls",
            "layout": "IPY_MODEL_19286bfb4b4741cdb199406d59b877ce"
          }
        },
        "b6250931836445d5863124134de71278": {
          "model_module": "@jupyter-widgets/controls",
          "model_name": "HTMLModel",
          "state": {
            "_view_name": "HTMLView",
            "style": "IPY_MODEL_43e584aa27ac45b8b29b0a72baca5c21",
            "_dom_classes": [],
            "description": "",
            "_model_name": "HTMLModel",
            "placeholder": "​",
            "_view_module": "@jupyter-widgets/controls",
            "_model_module_version": "1.5.0",
            "value": " 456k/456k [00:00&lt;00:00, 636kB/s]",
            "_view_count": null,
            "_view_module_version": "1.5.0",
            "description_tooltip": null,
            "_model_module": "@jupyter-widgets/controls",
            "layout": "IPY_MODEL_21e18fe7eccf459682e1d3d87c48663f"
          }
        },
        "a047a98583b04abaad73c284dc59aa26": {
          "model_module": "@jupyter-widgets/controls",
          "model_name": "ProgressStyleModel",
          "state": {
            "_view_name": "StyleView",
            "_model_name": "ProgressStyleModel",
            "description_width": "initial",
            "_view_module": "@jupyter-widgets/base",
            "_model_module_version": "1.5.0",
            "_view_count": null,
            "_view_module_version": "1.2.0",
            "bar_color": null,
            "_model_module": "@jupyter-widgets/controls"
          }
        },
        "19286bfb4b4741cdb199406d59b877ce": {
          "model_module": "@jupyter-widgets/base",
          "model_name": "LayoutModel",
          "state": {
            "_view_name": "LayoutView",
            "grid_template_rows": null,
            "right": null,
            "justify_content": null,
            "_view_module": "@jupyter-widgets/base",
            "overflow": null,
            "_model_module_version": "1.2.0",
            "_view_count": null,
            "flex_flow": null,
            "width": null,
            "min_width": null,
            "border": null,
            "align_items": null,
            "bottom": null,
            "_model_module": "@jupyter-widgets/base",
            "top": null,
            "grid_column": null,
            "overflow_y": null,
            "overflow_x": null,
            "grid_auto_flow": null,
            "grid_area": null,
            "grid_template_columns": null,
            "flex": null,
            "_model_name": "LayoutModel",
            "justify_items": null,
            "grid_row": null,
            "max_height": null,
            "align_content": null,
            "visibility": null,
            "align_self": null,
            "height": null,
            "min_height": null,
            "padding": null,
            "grid_auto_rows": null,
            "grid_gap": null,
            "max_width": null,
            "order": null,
            "_view_module_version": "1.2.0",
            "grid_template_areas": null,
            "object_position": null,
            "object_fit": null,
            "grid_auto_columns": null,
            "margin": null,
            "display": null,
            "left": null
          }
        },
        "43e584aa27ac45b8b29b0a72baca5c21": {
          "model_module": "@jupyter-widgets/controls",
          "model_name": "DescriptionStyleModel",
          "state": {
            "_view_name": "StyleView",
            "_model_name": "DescriptionStyleModel",
            "description_width": "",
            "_view_module": "@jupyter-widgets/base",
            "_model_module_version": "1.5.0",
            "_view_count": null,
            "_view_module_version": "1.2.0",
            "_model_module": "@jupyter-widgets/controls"
          }
        },
        "21e18fe7eccf459682e1d3d87c48663f": {
          "model_module": "@jupyter-widgets/base",
          "model_name": "LayoutModel",
          "state": {
            "_view_name": "LayoutView",
            "grid_template_rows": null,
            "right": null,
            "justify_content": null,
            "_view_module": "@jupyter-widgets/base",
            "overflow": null,
            "_model_module_version": "1.2.0",
            "_view_count": null,
            "flex_flow": null,
            "width": null,
            "min_width": null,
            "border": null,
            "align_items": null,
            "bottom": null,
            "_model_module": "@jupyter-widgets/base",
            "top": null,
            "grid_column": null,
            "overflow_y": null,
            "overflow_x": null,
            "grid_auto_flow": null,
            "grid_area": null,
            "grid_template_columns": null,
            "flex": null,
            "_model_name": "LayoutModel",
            "justify_items": null,
            "grid_row": null,
            "max_height": null,
            "align_content": null,
            "visibility": null,
            "align_self": null,
            "height": null,
            "min_height": null,
            "padding": null,
            "grid_auto_rows": null,
            "grid_gap": null,
            "max_width": null,
            "order": null,
            "_view_module_version": "1.2.0",
            "grid_template_areas": null,
            "object_position": null,
            "object_fit": null,
            "grid_auto_columns": null,
            "margin": null,
            "display": null,
            "left": null
          }
        },
        "984812b01a1c40ecb4b63067627af43f": {
          "model_module": "@jupyter-widgets/controls",
          "model_name": "HBoxModel",
          "state": {
            "_view_name": "HBoxView",
            "_dom_classes": [],
            "_model_name": "HBoxModel",
            "_view_module": "@jupyter-widgets/controls",
            "_model_module_version": "1.5.0",
            "_view_count": null,
            "_view_module_version": "1.5.0",
            "box_style": "",
            "layout": "IPY_MODEL_467f79029b1b4454a363f3c757a05402",
            "_model_module": "@jupyter-widgets/controls",
            "children": [
              "IPY_MODEL_c74f02f29e6945f8859ae13ddbe1f206",
              "IPY_MODEL_ef07b9ab18ea4855a3175e5a7aae1902"
            ]
          }
        },
        "467f79029b1b4454a363f3c757a05402": {
          "model_module": "@jupyter-widgets/base",
          "model_name": "LayoutModel",
          "state": {
            "_view_name": "LayoutView",
            "grid_template_rows": null,
            "right": null,
            "justify_content": null,
            "_view_module": "@jupyter-widgets/base",
            "overflow": null,
            "_model_module_version": "1.2.0",
            "_view_count": null,
            "flex_flow": null,
            "width": null,
            "min_width": null,
            "border": null,
            "align_items": null,
            "bottom": null,
            "_model_module": "@jupyter-widgets/base",
            "top": null,
            "grid_column": null,
            "overflow_y": null,
            "overflow_x": null,
            "grid_auto_flow": null,
            "grid_area": null,
            "grid_template_columns": null,
            "flex": null,
            "_model_name": "LayoutModel",
            "justify_items": null,
            "grid_row": null,
            "max_height": null,
            "align_content": null,
            "visibility": null,
            "align_self": null,
            "height": null,
            "min_height": null,
            "padding": null,
            "grid_auto_rows": null,
            "grid_gap": null,
            "max_width": null,
            "order": null,
            "_view_module_version": "1.2.0",
            "grid_template_areas": null,
            "object_position": null,
            "object_fit": null,
            "grid_auto_columns": null,
            "margin": null,
            "display": null,
            "left": null
          }
        },
        "c74f02f29e6945f8859ae13ddbe1f206": {
          "model_module": "@jupyter-widgets/controls",
          "model_name": "FloatProgressModel",
          "state": {
            "_view_name": "ProgressView",
            "style": "IPY_MODEL_470ea3d97934440394d9296a7d4f5303",
            "_dom_classes": [],
            "description": "Downloading: 100%",
            "_model_name": "FloatProgressModel",
            "bar_style": "success",
            "max": 1355256,
            "_view_module": "@jupyter-widgets/controls",
            "_model_module_version": "1.5.0",
            "value": 1355256,
            "_view_count": null,
            "_view_module_version": "1.5.0",
            "orientation": "horizontal",
            "min": 0,
            "description_tooltip": null,
            "_model_module": "@jupyter-widgets/controls",
            "layout": "IPY_MODEL_e8732520100b4f48b7eceb63d6970f9a"
          }
        },
        "ef07b9ab18ea4855a3175e5a7aae1902": {
          "model_module": "@jupyter-widgets/controls",
          "model_name": "HTMLModel",
          "state": {
            "_view_name": "HTMLView",
            "style": "IPY_MODEL_cc9759243526495496cf2301126ccdb4",
            "_dom_classes": [],
            "description": "",
            "_model_name": "HTMLModel",
            "placeholder": "​",
            "_view_module": "@jupyter-widgets/controls",
            "_model_module_version": "1.5.0",
            "value": " 1.36M/1.36M [00:00&lt;00:00, 6.23MB/s]",
            "_view_count": null,
            "_view_module_version": "1.5.0",
            "description_tooltip": null,
            "_model_module": "@jupyter-widgets/controls",
            "layout": "IPY_MODEL_bca15e7c639a44c6813c928e15f6368c"
          }
        },
        "470ea3d97934440394d9296a7d4f5303": {
          "model_module": "@jupyter-widgets/controls",
          "model_name": "ProgressStyleModel",
          "state": {
            "_view_name": "StyleView",
            "_model_name": "ProgressStyleModel",
            "description_width": "initial",
            "_view_module": "@jupyter-widgets/base",
            "_model_module_version": "1.5.0",
            "_view_count": null,
            "_view_module_version": "1.2.0",
            "bar_color": null,
            "_model_module": "@jupyter-widgets/controls"
          }
        },
        "e8732520100b4f48b7eceb63d6970f9a": {
          "model_module": "@jupyter-widgets/base",
          "model_name": "LayoutModel",
          "state": {
            "_view_name": "LayoutView",
            "grid_template_rows": null,
            "right": null,
            "justify_content": null,
            "_view_module": "@jupyter-widgets/base",
            "overflow": null,
            "_model_module_version": "1.2.0",
            "_view_count": null,
            "flex_flow": null,
            "width": null,
            "min_width": null,
            "border": null,
            "align_items": null,
            "bottom": null,
            "_model_module": "@jupyter-widgets/base",
            "top": null,
            "grid_column": null,
            "overflow_y": null,
            "overflow_x": null,
            "grid_auto_flow": null,
            "grid_area": null,
            "grid_template_columns": null,
            "flex": null,
            "_model_name": "LayoutModel",
            "justify_items": null,
            "grid_row": null,
            "max_height": null,
            "align_content": null,
            "visibility": null,
            "align_self": null,
            "height": null,
            "min_height": null,
            "padding": null,
            "grid_auto_rows": null,
            "grid_gap": null,
            "max_width": null,
            "order": null,
            "_view_module_version": "1.2.0",
            "grid_template_areas": null,
            "object_position": null,
            "object_fit": null,
            "grid_auto_columns": null,
            "margin": null,
            "display": null,
            "left": null
          }
        },
        "cc9759243526495496cf2301126ccdb4": {
          "model_module": "@jupyter-widgets/controls",
          "model_name": "DescriptionStyleModel",
          "state": {
            "_view_name": "StyleView",
            "_model_name": "DescriptionStyleModel",
            "description_width": "",
            "_view_module": "@jupyter-widgets/base",
            "_model_module_version": "1.5.0",
            "_view_count": null,
            "_view_module_version": "1.2.0",
            "_model_module": "@jupyter-widgets/controls"
          }
        },
        "bca15e7c639a44c6813c928e15f6368c": {
          "model_module": "@jupyter-widgets/base",
          "model_name": "LayoutModel",
          "state": {
            "_view_name": "LayoutView",
            "grid_template_rows": null,
            "right": null,
            "justify_content": null,
            "_view_module": "@jupyter-widgets/base",
            "overflow": null,
            "_model_module_version": "1.2.0",
            "_view_count": null,
            "flex_flow": null,
            "width": null,
            "min_width": null,
            "border": null,
            "align_items": null,
            "bottom": null,
            "_model_module": "@jupyter-widgets/base",
            "top": null,
            "grid_column": null,
            "overflow_y": null,
            "overflow_x": null,
            "grid_auto_flow": null,
            "grid_area": null,
            "grid_template_columns": null,
            "flex": null,
            "_model_name": "LayoutModel",
            "justify_items": null,
            "grid_row": null,
            "max_height": null,
            "align_content": null,
            "visibility": null,
            "align_self": null,
            "height": null,
            "min_height": null,
            "padding": null,
            "grid_auto_rows": null,
            "grid_gap": null,
            "max_width": null,
            "order": null,
            "_view_module_version": "1.2.0",
            "grid_template_areas": null,
            "object_position": null,
            "object_fit": null,
            "grid_auto_columns": null,
            "margin": null,
            "display": null,
            "left": null
          }
        },
        "a6acb9f803214886b88efbdb99f2933e": {
          "model_module": "@jupyter-widgets/controls",
          "model_name": "HBoxModel",
          "state": {
            "_view_name": "HBoxView",
            "_dom_classes": [],
            "_model_name": "HBoxModel",
            "_view_module": "@jupyter-widgets/controls",
            "_model_module_version": "1.5.0",
            "_view_count": null,
            "_view_module_version": "1.5.0",
            "box_style": "",
            "layout": "IPY_MODEL_f03200329d724ed2aaa3a68801aa475b",
            "_model_module": "@jupyter-widgets/controls",
            "children": [
              "IPY_MODEL_843e59e96e3b40da8eb70b2196daf158",
              "IPY_MODEL_562566aec9de4b9ca1cf8bb9373887d8"
            ]
          }
        },
        "f03200329d724ed2aaa3a68801aa475b": {
          "model_module": "@jupyter-widgets/base",
          "model_name": "LayoutModel",
          "state": {
            "_view_name": "LayoutView",
            "grid_template_rows": null,
            "right": null,
            "justify_content": null,
            "_view_module": "@jupyter-widgets/base",
            "overflow": null,
            "_model_module_version": "1.2.0",
            "_view_count": null,
            "flex_flow": null,
            "width": null,
            "min_width": null,
            "border": null,
            "align_items": null,
            "bottom": null,
            "_model_module": "@jupyter-widgets/base",
            "top": null,
            "grid_column": null,
            "overflow_y": null,
            "overflow_x": null,
            "grid_auto_flow": null,
            "grid_area": null,
            "grid_template_columns": null,
            "flex": null,
            "_model_name": "LayoutModel",
            "justify_items": null,
            "grid_row": null,
            "max_height": null,
            "align_content": null,
            "visibility": null,
            "align_self": null,
            "height": null,
            "min_height": null,
            "padding": null,
            "grid_auto_rows": null,
            "grid_gap": null,
            "max_width": null,
            "order": null,
            "_view_module_version": "1.2.0",
            "grid_template_areas": null,
            "object_position": null,
            "object_fit": null,
            "grid_auto_columns": null,
            "margin": null,
            "display": null,
            "left": null
          }
        },
        "843e59e96e3b40da8eb70b2196daf158": {
          "model_module": "@jupyter-widgets/controls",
          "model_name": "FloatProgressModel",
          "state": {
            "_view_name": "ProgressView",
            "style": "IPY_MODEL_9f2111306c52470ba23fc5ed4fd60f22",
            "_dom_classes": [],
            "description": "Downloading: 100%",
            "_model_name": "FloatProgressModel",
            "bar_style": "success",
            "max": 718,
            "_view_module": "@jupyter-widgets/controls",
            "_model_module_version": "1.5.0",
            "value": 718,
            "_view_count": null,
            "_view_module_version": "1.5.0",
            "orientation": "horizontal",
            "min": 0,
            "description_tooltip": null,
            "_model_module": "@jupyter-widgets/controls",
            "layout": "IPY_MODEL_3ae02779b69c4b2dafd4543a71153fdf"
          }
        },
        "562566aec9de4b9ca1cf8bb9373887d8": {
          "model_module": "@jupyter-widgets/controls",
          "model_name": "HTMLModel",
          "state": {
            "_view_name": "HTMLView",
            "style": "IPY_MODEL_6ea3e81cb0d34bd3a3ad325641a854da",
            "_dom_classes": [],
            "description": "",
            "_model_name": "HTMLModel",
            "placeholder": "​",
            "_view_module": "@jupyter-widgets/controls",
            "_model_module_version": "1.5.0",
            "value": " 718/718 [00:00&lt;00:00, 1.95kB/s]",
            "_view_count": null,
            "_view_module_version": "1.5.0",
            "description_tooltip": null,
            "_model_module": "@jupyter-widgets/controls",
            "layout": "IPY_MODEL_946c22d2df1a46308e53a7b559b54a08"
          }
        },
        "9f2111306c52470ba23fc5ed4fd60f22": {
          "model_module": "@jupyter-widgets/controls",
          "model_name": "ProgressStyleModel",
          "state": {
            "_view_name": "StyleView",
            "_model_name": "ProgressStyleModel",
            "description_width": "initial",
            "_view_module": "@jupyter-widgets/base",
            "_model_module_version": "1.5.0",
            "_view_count": null,
            "_view_module_version": "1.2.0",
            "bar_color": null,
            "_model_module": "@jupyter-widgets/controls"
          }
        },
        "3ae02779b69c4b2dafd4543a71153fdf": {
          "model_module": "@jupyter-widgets/base",
          "model_name": "LayoutModel",
          "state": {
            "_view_name": "LayoutView",
            "grid_template_rows": null,
            "right": null,
            "justify_content": null,
            "_view_module": "@jupyter-widgets/base",
            "overflow": null,
            "_model_module_version": "1.2.0",
            "_view_count": null,
            "flex_flow": null,
            "width": null,
            "min_width": null,
            "border": null,
            "align_items": null,
            "bottom": null,
            "_model_module": "@jupyter-widgets/base",
            "top": null,
            "grid_column": null,
            "overflow_y": null,
            "overflow_x": null,
            "grid_auto_flow": null,
            "grid_area": null,
            "grid_template_columns": null,
            "flex": null,
            "_model_name": "LayoutModel",
            "justify_items": null,
            "grid_row": null,
            "max_height": null,
            "align_content": null,
            "visibility": null,
            "align_self": null,
            "height": null,
            "min_height": null,
            "padding": null,
            "grid_auto_rows": null,
            "grid_gap": null,
            "max_width": null,
            "order": null,
            "_view_module_version": "1.2.0",
            "grid_template_areas": null,
            "object_position": null,
            "object_fit": null,
            "grid_auto_columns": null,
            "margin": null,
            "display": null,
            "left": null
          }
        },
        "6ea3e81cb0d34bd3a3ad325641a854da": {
          "model_module": "@jupyter-widgets/controls",
          "model_name": "DescriptionStyleModel",
          "state": {
            "_view_name": "StyleView",
            "_model_name": "DescriptionStyleModel",
            "description_width": "",
            "_view_module": "@jupyter-widgets/base",
            "_model_module_version": "1.5.0",
            "_view_count": null,
            "_view_module_version": "1.2.0",
            "_model_module": "@jupyter-widgets/controls"
          }
        },
        "946c22d2df1a46308e53a7b559b54a08": {
          "model_module": "@jupyter-widgets/base",
          "model_name": "LayoutModel",
          "state": {
            "_view_name": "LayoutView",
            "grid_template_rows": null,
            "right": null,
            "justify_content": null,
            "_view_module": "@jupyter-widgets/base",
            "overflow": null,
            "_model_module_version": "1.2.0",
            "_view_count": null,
            "flex_flow": null,
            "width": null,
            "min_width": null,
            "border": null,
            "align_items": null,
            "bottom": null,
            "_model_module": "@jupyter-widgets/base",
            "top": null,
            "grid_column": null,
            "overflow_y": null,
            "overflow_x": null,
            "grid_auto_flow": null,
            "grid_area": null,
            "grid_template_columns": null,
            "flex": null,
            "_model_name": "LayoutModel",
            "justify_items": null,
            "grid_row": null,
            "max_height": null,
            "align_content": null,
            "visibility": null,
            "align_self": null,
            "height": null,
            "min_height": null,
            "padding": null,
            "grid_auto_rows": null,
            "grid_gap": null,
            "max_width": null,
            "order": null,
            "_view_module_version": "1.2.0",
            "grid_template_areas": null,
            "object_position": null,
            "object_fit": null,
            "grid_auto_columns": null,
            "margin": null,
            "display": null,
            "left": null
          }
        },
        "9768eb8d91ea4f799b91bcfdf2433f38": {
          "model_module": "@jupyter-widgets/controls",
          "model_name": "HBoxModel",
          "state": {
            "_view_name": "HBoxView",
            "_dom_classes": [],
            "_model_name": "HBoxModel",
            "_view_module": "@jupyter-widgets/controls",
            "_model_module_version": "1.5.0",
            "_view_count": null,
            "_view_module_version": "1.5.0",
            "box_style": "",
            "layout": "IPY_MODEL_50e41e22f528450998f65dd36bfb405a",
            "_model_module": "@jupyter-widgets/controls",
            "children": [
              "IPY_MODEL_b2b1d39820e848eb9e818d2c5c24e7d0",
              "IPY_MODEL_9b858c30738b42189969031e1be19f96"
            ]
          }
        },
        "50e41e22f528450998f65dd36bfb405a": {
          "model_module": "@jupyter-widgets/base",
          "model_name": "LayoutModel",
          "state": {
            "_view_name": "LayoutView",
            "grid_template_rows": null,
            "right": null,
            "justify_content": null,
            "_view_module": "@jupyter-widgets/base",
            "overflow": null,
            "_model_module_version": "1.2.0",
            "_view_count": null,
            "flex_flow": null,
            "width": null,
            "min_width": null,
            "border": null,
            "align_items": null,
            "bottom": null,
            "_model_module": "@jupyter-widgets/base",
            "top": null,
            "grid_column": null,
            "overflow_y": null,
            "overflow_x": null,
            "grid_auto_flow": null,
            "grid_area": null,
            "grid_template_columns": null,
            "flex": null,
            "_model_name": "LayoutModel",
            "justify_items": null,
            "grid_row": null,
            "max_height": null,
            "align_content": null,
            "visibility": null,
            "align_self": null,
            "height": null,
            "min_height": null,
            "padding": null,
            "grid_auto_rows": null,
            "grid_gap": null,
            "max_width": null,
            "order": null,
            "_view_module_version": "1.2.0",
            "grid_template_areas": null,
            "object_position": null,
            "object_fit": null,
            "grid_auto_columns": null,
            "margin": null,
            "display": null,
            "left": null
          }
        },
        "b2b1d39820e848eb9e818d2c5c24e7d0": {
          "model_module": "@jupyter-widgets/controls",
          "model_name": "FloatProgressModel",
          "state": {
            "_view_name": "ProgressView",
            "style": "IPY_MODEL_de1649767f7e4373aa73132a8f151c98",
            "_dom_classes": [],
            "description": "Downloading: 100%",
            "_model_name": "FloatProgressModel",
            "bar_style": "success",
            "max": 1520013706,
            "_view_module": "@jupyter-widgets/controls",
            "_model_module_version": "1.5.0",
            "value": 1520013706,
            "_view_count": null,
            "_view_module_version": "1.5.0",
            "orientation": "horizontal",
            "min": 0,
            "description_tooltip": null,
            "_model_module": "@jupyter-widgets/controls",
            "layout": "IPY_MODEL_1eb6ca325fc54d1a9c2f2662516dbed3"
          }
        },
        "9b858c30738b42189969031e1be19f96": {
          "model_module": "@jupyter-widgets/controls",
          "model_name": "HTMLModel",
          "state": {
            "_view_name": "HTMLView",
            "style": "IPY_MODEL_7a4fb88e2046480f9aeb2dd07bd02a26",
            "_dom_classes": [],
            "description": "",
            "_model_name": "HTMLModel",
            "placeholder": "​",
            "_view_module": "@jupyter-widgets/controls",
            "_model_module_version": "1.5.0",
            "value": " 1.52G/1.52G [00:38&lt;00:00, 39.6MB/s]",
            "_view_count": null,
            "_view_module_version": "1.5.0",
            "description_tooltip": null,
            "_model_module": "@jupyter-widgets/controls",
            "layout": "IPY_MODEL_03cf3d527d0844ed9d3db1f7e658093f"
          }
        },
        "de1649767f7e4373aa73132a8f151c98": {
          "model_module": "@jupyter-widgets/controls",
          "model_name": "ProgressStyleModel",
          "state": {
            "_view_name": "StyleView",
            "_model_name": "ProgressStyleModel",
            "description_width": "initial",
            "_view_module": "@jupyter-widgets/base",
            "_model_module_version": "1.5.0",
            "_view_count": null,
            "_view_module_version": "1.2.0",
            "bar_color": null,
            "_model_module": "@jupyter-widgets/controls"
          }
        },
        "1eb6ca325fc54d1a9c2f2662516dbed3": {
          "model_module": "@jupyter-widgets/base",
          "model_name": "LayoutModel",
          "state": {
            "_view_name": "LayoutView",
            "grid_template_rows": null,
            "right": null,
            "justify_content": null,
            "_view_module": "@jupyter-widgets/base",
            "overflow": null,
            "_model_module_version": "1.2.0",
            "_view_count": null,
            "flex_flow": null,
            "width": null,
            "min_width": null,
            "border": null,
            "align_items": null,
            "bottom": null,
            "_model_module": "@jupyter-widgets/base",
            "top": null,
            "grid_column": null,
            "overflow_y": null,
            "overflow_x": null,
            "grid_auto_flow": null,
            "grid_area": null,
            "grid_template_columns": null,
            "flex": null,
            "_model_name": "LayoutModel",
            "justify_items": null,
            "grid_row": null,
            "max_height": null,
            "align_content": null,
            "visibility": null,
            "align_self": null,
            "height": null,
            "min_height": null,
            "padding": null,
            "grid_auto_rows": null,
            "grid_gap": null,
            "max_width": null,
            "order": null,
            "_view_module_version": "1.2.0",
            "grid_template_areas": null,
            "object_position": null,
            "object_fit": null,
            "grid_auto_columns": null,
            "margin": null,
            "display": null,
            "left": null
          }
        },
        "7a4fb88e2046480f9aeb2dd07bd02a26": {
          "model_module": "@jupyter-widgets/controls",
          "model_name": "DescriptionStyleModel",
          "state": {
            "_view_name": "StyleView",
            "_model_name": "DescriptionStyleModel",
            "description_width": "",
            "_view_module": "@jupyter-widgets/base",
            "_model_module_version": "1.5.0",
            "_view_count": null,
            "_view_module_version": "1.2.0",
            "_model_module": "@jupyter-widgets/controls"
          }
        },
        "03cf3d527d0844ed9d3db1f7e658093f": {
          "model_module": "@jupyter-widgets/base",
          "model_name": "LayoutModel",
          "state": {
            "_view_name": "LayoutView",
            "grid_template_rows": null,
            "right": null,
            "justify_content": null,
            "_view_module": "@jupyter-widgets/base",
            "overflow": null,
            "_model_module_version": "1.2.0",
            "_view_count": null,
            "flex_flow": null,
            "width": null,
            "min_width": null,
            "border": null,
            "align_items": null,
            "bottom": null,
            "_model_module": "@jupyter-widgets/base",
            "top": null,
            "grid_column": null,
            "overflow_y": null,
            "overflow_x": null,
            "grid_auto_flow": null,
            "grid_area": null,
            "grid_template_columns": null,
            "flex": null,
            "_model_name": "LayoutModel",
            "justify_items": null,
            "grid_row": null,
            "max_height": null,
            "align_content": null,
            "visibility": null,
            "align_self": null,
            "height": null,
            "min_height": null,
            "padding": null,
            "grid_auto_rows": null,
            "grid_gap": null,
            "max_width": null,
            "order": null,
            "_view_module_version": "1.2.0",
            "grid_template_areas": null,
            "object_position": null,
            "object_fit": null,
            "grid_auto_columns": null,
            "margin": null,
            "display": null,
            "left": null
          }
        }
      }
    }
  },
  "cells": [
    {
      "cell_type": "code",
      "metadata": {
        "colab": {
          "base_uri": "https://localhost:8080/"
        },
        "id": "UORMZzwED_kr",
        "outputId": "86e7485f-8619-477c-ac90-67bf9e734515"
      },
      "source": [
        "from google.colab import drive\n",
        "drive.mount('/content/gdrive/')"
      ],
      "execution_count": 18,
      "outputs": [
        {
          "output_type": "stream",
          "text": [
            "Mounted at /content/gdrive/\n"
          ],
          "name": "stdout"
        }
      ]
    },
    {
      "cell_type": "code",
      "metadata": {
        "id": "oqbhMHpFEDuc"
      },
      "source": [
        "import os\n",
        "basePath = '/content/gdrive/My Drive/'\n",
        "os.chdir(basePath + 'YahooAnswers/yahoo_answers_csv')"
      ],
      "execution_count": 19,
      "outputs": []
    },
    {
      "cell_type": "markdown",
      "metadata": {
        "id": "flhZRh1a26DD"
      },
      "source": [
        "## S-BERT"
      ]
    },
    {
      "cell_type": "code",
      "metadata": {
        "id": "yvFyJRIkEFU0",
        "colab": {
          "base_uri": "https://localhost:8080/"
        },
        "outputId": "e65b941c-0edc-4d29-915b-881e93b319fd"
      },
      "source": [
        "!pip install --quiet sentence-transformers"
      ],
      "execution_count": null,
      "outputs": [
        {
          "output_type": "stream",
          "text": [
            "\u001b[K     |████████████████████████████████| 92kB 3.1MB/s \n",
            "\u001b[K     |████████████████████████████████| 2.5MB 4.8MB/s \n",
            "\u001b[K     |████████████████████████████████| 1.2MB 16.1MB/s \n",
            "\u001b[K     |████████████████████████████████| 901kB 19.6MB/s \n",
            "\u001b[K     |████████████████████████████████| 3.3MB 25.9MB/s \n",
            "\u001b[?25h  Building wheel for sentence-transformers (setup.py) ... \u001b[?25l\u001b[?25hdone\n",
            "\u001b[31mERROR: transformers 4.8.2 has requirement huggingface-hub==0.0.12, but you'll have huggingface-hub 0.0.13 which is incompatible.\u001b[0m\n"
          ],
          "name": "stdout"
        }
      ]
    },
    {
      "cell_type": "code",
      "metadata": {
        "colab": {
          "base_uri": "https://localhost:8080/"
        },
        "id": "srhzWl52EOCN",
        "outputId": "854d4595-e184-414a-8550-e696fa57b230"
      },
      "source": [
        "from sentence_transformers import SentenceTransformer\n",
        "device = 'cuda'\n",
        "evalModel = SentenceTransformer('bert-base-nli-mean-tokens')\n",
        "evalModel = evalModel.to(device)"
      ],
      "execution_count": null,
      "outputs": [
        {
          "output_type": "stream",
          "text": [
            "100%|██████████| 405M/405M [00:23<00:00, 16.9MB/s]\n"
          ],
          "name": "stderr"
        }
      ]
    },
    {
      "cell_type": "markdown",
      "metadata": {
        "id": "0-5onxm-2-3z"
      },
      "source": [
        "## USE"
      ]
    },
    {
      "cell_type": "code",
      "metadata": {
        "id": "UAFc-5CT3D4c"
      },
      "source": [
        "# Install the latest Tensorflow version.\n",
        "!pip3 install --quiet \"tensorflow>=1.7\"\n",
        "# Install TF-Hub.\n",
        "!pip3 install --quiet tensorflow-hub\n",
        "!pip3 install --quiet seaborn"
      ],
      "execution_count": null,
      "outputs": []
    },
    {
      "cell_type": "code",
      "metadata": {
        "colab": {
          "base_uri": "https://localhost:8080/"
        },
        "id": "pTXnaUHM3FjQ",
        "outputId": "fffdc3f3-7375-449f-cb01-a88107888204"
      },
      "source": [
        "# Load the Universal Sentence Encoder's TF Hub module\n",
        "from absl import logging\n",
        "\n",
        "import tensorflow as tf\n",
        "\n",
        "import tensorflow_hub as hub\n",
        "import matplotlib.pyplot as plt\n",
        "import numpy as np\n",
        "import os\n",
        "import pandas as pd\n",
        "import re\n",
        "import seaborn as sns\n",
        "\n",
        "module_url = \"https://tfhub.dev/google/universal-sentence-encoder/4\" #@param [\"https://tfhub.dev/google/universal-sentence-encoder/4\", \"https://tfhub.dev/google/universal-sentence-encoder-large/5\"]\n",
        "modelEval2 = hub.load(module_url)\n",
        "print (\"module %s loaded\" % module_url)\n",
        "def embed(input):\n",
        "  return modelEval2(input)"
      ],
      "execution_count": null,
      "outputs": [
        {
          "output_type": "stream",
          "text": [
            "module https://tfhub.dev/google/universal-sentence-encoder/4 loaded\n"
          ],
          "name": "stdout"
        }
      ]
    },
    {
      "cell_type": "markdown",
      "metadata": {
        "id": "Wi88NrHC3Uwi"
      },
      "source": [
        "## Helper functions"
      ]
    },
    {
      "cell_type": "code",
      "metadata": {
        "id": "kQXrv0VHEQZf"
      },
      "source": [
        "import torch\n",
        "cos = torch.nn.CosineSimilarity(dim=0, eps=1e-6)"
      ],
      "execution_count": null,
      "outputs": []
    },
    {
      "cell_type": "code",
      "metadata": {
        "id": "sxMxXywTES6y"
      },
      "source": [
        "def getEmbedding(sntcBatch):\n",
        "    # return evalModel.encode(sntcBatch, convert_to_tensor=True)\n",
        "    return torch.tensor(np.asarray(embed(sntcBatch)))"
      ],
      "execution_count": null,
      "outputs": []
    },
    {
      "cell_type": "code",
      "metadata": {
        "colab": {
          "base_uri": "https://localhost:8080/"
        },
        "id": "A3LIP42t3gDs",
        "outputId": "cc6ecc13-3b3b-4a3d-c50d-48f045a6c0bd"
      },
      "source": [
        "from nltk import tokenize\n",
        "import nltk\n",
        "nltk.download('punkt')"
      ],
      "execution_count": null,
      "outputs": [
        {
          "output_type": "stream",
          "text": [
            "[nltk_data] Downloading package punkt to /root/nltk_data...\n",
            "[nltk_data]   Unzipping tokenizers/punkt.zip.\n"
          ],
          "name": "stdout"
        },
        {
          "output_type": "execute_result",
          "data": {
            "text/plain": [
              "True"
            ]
          },
          "metadata": {
            "tags": []
          },
          "execution_count": 7
        }
      ]
    },
    {
      "cell_type": "code",
      "metadata": {
        "id": "4ZjJs0lu3gjM"
      },
      "source": [
        "# Similar to the above, for whole documents instead of sentences.\n",
        "# The embedding of the document is calculated as the average of all its sentences\n",
        "def getDocumentEmbedding(documentBatch):\n",
        "  docEmbeddings = torch.zeros(len(documentBatch), 512)\n",
        "  for (i, doc) in enumerate(documentBatch):\n",
        "    if i%10000 == 0:\n",
        "      print(i)\n",
        "    sentences = tokenize.sent_tokenize(doc)\n",
        "    sentEmbeddings = getEmbedding(sentences)\n",
        "    avgEmbedding = torch.mean(sentEmbeddings, axis=0)\n",
        "    docEmbeddings[i, :] = avgEmbedding\n",
        "  return docEmbeddings"
      ],
      "execution_count": null,
      "outputs": []
    },
    {
      "cell_type": "code",
      "metadata": {
        "id": "4Xx9Oe_CsmxN"
      },
      "source": [
        "def getSimilarity(a, b):\n",
        "  return cos(a, b)\n",
        "  # return np.linalg.norm(a - b, -1)"
      ],
      "execution_count": null,
      "outputs": []
    },
    {
      "cell_type": "code",
      "metadata": {
        "id": "KzVgKOetrc4u"
      },
      "source": [
        "def evaluateEmbeddingsMultiple(generatedEmbeddingsArr, evaluationEmbeddingsArr):\n",
        "  nSentences = len(generatedEmbeddingsArr)\n",
        "  nKeywords  = len(evaluationEmbeddingsArr)\n",
        "  scores = torch.zeros(size=(nSentences, 1))\n",
        "\n",
        "  for i in range(nSentences):\n",
        "    for j in range(nKeywords):\n",
        "      scores[i] += getSimilarity(evaluationEmbeddingsArr[j], generatedEmbeddingsArr[i]) \n",
        "    scores[i] = scores[i]/nKeywords\n",
        "\n",
        "  score = torch.mean(scores)\n",
        "  std = torch.std(scores)\n",
        "\n",
        "  return score, std, scores"
      ],
      "execution_count": null,
      "outputs": []
    },
    {
      "cell_type": "code",
      "metadata": {
        "id": "A6hjqmAyPf6m"
      },
      "source": [
        "def choose_from_top(probs, n=40):\n",
        "    ind = np.argpartition(probs, -n)[-n:]\n",
        "    top_prob = probs[ind]\n",
        "    top_prob = top_prob / np.sum(top_prob) # Normalize\n",
        "    choice = np.random.choice(n, 1, p = top_prob)\n",
        "    token_id = ind[choice][0]\n",
        "    return int(token_id)"
      ],
      "execution_count": null,
      "outputs": []
    },
    {
      "cell_type": "code",
      "metadata": {
        "id": "elcrBd04QWHQ",
        "colab": {
          "base_uri": "https://localhost:8080/",
          "height": 264,
          "referenced_widgets": [
            "0515083f07ee4d9c9c7bc17eb8beefb3",
            "8824aa34719f429f9d6aec3e1c8dcf53",
            "6677caa197a04461b3f9026d3fd8fc2a",
            "804f353323f54f768f67e6eb8652a4f0",
            "e593a177bd7e43008f9a1f5c98dae528",
            "7481ea21c57c423e91341467e23ec558",
            "a086844e8d4f4311b00c2d4d535bd7da",
            "c79fc032790942adb3fedbb73f6a8e7c",
            "b1a0334f394b46129158f1be2f8b28d4",
            "e8ffb65c266c4caea0bfebda6049a9d5",
            "b06f4d39103648da9d5a33b1819874aa",
            "b6250931836445d5863124134de71278",
            "a047a98583b04abaad73c284dc59aa26",
            "19286bfb4b4741cdb199406d59b877ce",
            "43e584aa27ac45b8b29b0a72baca5c21",
            "21e18fe7eccf459682e1d3d87c48663f",
            "984812b01a1c40ecb4b63067627af43f",
            "467f79029b1b4454a363f3c757a05402",
            "c74f02f29e6945f8859ae13ddbe1f206",
            "ef07b9ab18ea4855a3175e5a7aae1902",
            "470ea3d97934440394d9296a7d4f5303",
            "e8732520100b4f48b7eceb63d6970f9a",
            "cc9759243526495496cf2301126ccdb4",
            "bca15e7c639a44c6813c928e15f6368c",
            "a6acb9f803214886b88efbdb99f2933e",
            "f03200329d724ed2aaa3a68801aa475b",
            "843e59e96e3b40da8eb70b2196daf158",
            "562566aec9de4b9ca1cf8bb9373887d8",
            "9f2111306c52470ba23fc5ed4fd60f22",
            "3ae02779b69c4b2dafd4543a71153fdf",
            "6ea3e81cb0d34bd3a3ad325641a854da",
            "946c22d2df1a46308e53a7b559b54a08",
            "9768eb8d91ea4f799b91bcfdf2433f38",
            "50e41e22f528450998f65dd36bfb405a",
            "b2b1d39820e848eb9e818d2c5c24e7d0",
            "9b858c30738b42189969031e1be19f96",
            "de1649767f7e4373aa73132a8f151c98",
            "1eb6ca325fc54d1a9c2f2662516dbed3",
            "7a4fb88e2046480f9aeb2dd07bd02a26",
            "03cf3d527d0844ed9d3db1f7e658093f"
          ]
        },
        "outputId": "b7407e23-320b-433a-b551-b525465dcd11"
      },
      "source": [
        "from transformers import GPT2Tokenizer, GPT2LMHeadModel\n",
        "tokenizer = GPT2Tokenizer.from_pretrained('gpt2-medium')\n",
        "model = GPT2LMHeadModel.from_pretrained('gpt2-medium')\n",
        "device = 'cpu'\n",
        "model = model.to(device)"
      ],
      "execution_count": null,
      "outputs": [
        {
          "output_type": "display_data",
          "data": {
            "application/vnd.jupyter.widget-view+json": {
              "model_id": "0515083f07ee4d9c9c7bc17eb8beefb3",
              "version_minor": 0,
              "version_major": 2
            },
            "text/plain": [
              "HBox(children=(FloatProgress(value=0.0, description='Downloading', max=1042301.0, style=ProgressStyle(descript…"
            ]
          },
          "metadata": {
            "tags": []
          }
        },
        {
          "output_type": "stream",
          "text": [
            "\n"
          ],
          "name": "stdout"
        },
        {
          "output_type": "display_data",
          "data": {
            "application/vnd.jupyter.widget-view+json": {
              "model_id": "b1a0334f394b46129158f1be2f8b28d4",
              "version_minor": 0,
              "version_major": 2
            },
            "text/plain": [
              "HBox(children=(FloatProgress(value=0.0, description='Downloading', max=456318.0, style=ProgressStyle(descripti…"
            ]
          },
          "metadata": {
            "tags": []
          }
        },
        {
          "output_type": "stream",
          "text": [
            "\n"
          ],
          "name": "stdout"
        },
        {
          "output_type": "display_data",
          "data": {
            "application/vnd.jupyter.widget-view+json": {
              "model_id": "984812b01a1c40ecb4b63067627af43f",
              "version_minor": 0,
              "version_major": 2
            },
            "text/plain": [
              "HBox(children=(FloatProgress(value=0.0, description='Downloading', max=1355256.0, style=ProgressStyle(descript…"
            ]
          },
          "metadata": {
            "tags": []
          }
        },
        {
          "output_type": "stream",
          "text": [
            "\n"
          ],
          "name": "stdout"
        },
        {
          "output_type": "display_data",
          "data": {
            "application/vnd.jupyter.widget-view+json": {
              "model_id": "a6acb9f803214886b88efbdb99f2933e",
              "version_minor": 0,
              "version_major": 2
            },
            "text/plain": [
              "HBox(children=(FloatProgress(value=0.0, description='Downloading', max=718.0, style=ProgressStyle(description_…"
            ]
          },
          "metadata": {
            "tags": []
          }
        },
        {
          "output_type": "stream",
          "text": [
            "\n"
          ],
          "name": "stdout"
        },
        {
          "output_type": "display_data",
          "data": {
            "application/vnd.jupyter.widget-view+json": {
              "model_id": "9768eb8d91ea4f799b91bcfdf2433f38",
              "version_minor": 0,
              "version_major": 2
            },
            "text/plain": [
              "HBox(children=(FloatProgress(value=0.0, description='Downloading', max=1520013706.0, style=ProgressStyle(descr…"
            ]
          },
          "metadata": {
            "tags": []
          }
        },
        {
          "output_type": "stream",
          "text": [
            "\n"
          ],
          "name": "stdout"
        }
      ]
    },
    {
      "cell_type": "code",
      "metadata": {
        "id": "9Cb66vr3QzYr"
      },
      "source": [
        "  def generate(model=model, prompt='<|endoftext|>', nSentences=20, showOnlyFinished=0, n=40):\n",
        "  #   \"\"\"\n",
        "  #   Function GENERATE()\n",
        "  #   INPUTS:\n",
        "  #     model           : Pytorch Model     - Pytorch Language Model to use\n",
        "  #     prompt          : String            - User prompt \n",
        "  #     nSentences      : Int               - Number of sentences to generate\n",
        "  #     showOnlyFinished: Boolean           - Wether to display only generated sentences that end with <|endoftext|>\n",
        "  #     n               : Int               - top-n sampler parameter. Set higher for more diversity, but too high will produce nonsense\n",
        "\n",
        "  #   AUTHOR: Kitsios Konstantinos\n",
        "  #   \"\"\"\n",
        "\n",
        "      # Turn model in evaluation mode(deactivate dropouts etc)\n",
        "      model.eval()\n",
        "      # Number of sentences generated so far\n",
        "      gen_num = 0\n",
        "      # Array to return\n",
        "      generatedSentenceArr = []\n",
        "      # Tokenizer(Suppose GPT2 model)\n",
        "      tokenizer = GPT2Tokenizer.from_pretrained('gpt2-medium')\n",
        "\n",
        "      with torch.no_grad():\n",
        "\n",
        "              # How many sentences to generate\n",
        "              for gen_idx in range(nSentences):\n",
        "                  # Generation not finished yet\n",
        "                  gen_finished = False\n",
        "\n",
        "                  # Define custom prompt\n",
        "                  cur_ids = torch.tensor(tokenizer.encode(prompt)).unsqueeze(0).to(device)\n",
        "\n",
        "                  # Predict the next 50 words(unless EOS token encountered)\n",
        "                  for i in range(10):\n",
        "                      # Forward pass the model to get outputs\n",
        "                      outputs = model(cur_ids, labels=cur_ids)\n",
        "                      # Get logits\n",
        "                      loss, logits = outputs[:2]\n",
        "                      # Transform logits to probabilities\n",
        "                      softmax_logits = torch.softmax(logits[0, -1], dim=0) #Take the first(from only one in this case) batch and the last predicted embedding\n",
        "                      # Sample using top-n sampler\n",
        "                      next_token_id = choose_from_top(softmax_logits.to('cpu').numpy(), n=n) #Randomly(from the topN probability distribution) select the next word\n",
        "                      cur_ids = torch.cat([cur_ids, torch.ones((1,1)).long().to(device) * next_token_id], dim = 1) # Add the last word to the running sequence\n",
        "\n",
        "                      if next_token_id in tokenizer.encode('<|endoftext|>'):\n",
        "                          gen_finished = True\n",
        "                          break\n",
        "\n",
        "                  \n",
        "                  if gen_finished or not showOnlyFinished:\n",
        "                      \n",
        "                      gen_num = gen_num + 1\n",
        "                      \n",
        "                      output_list = list(cur_ids.squeeze().to('cpu').numpy())\n",
        "                      output_text = tokenizer.decode(output_list)\n",
        "                      generatedSentenceArr.append(output_text.replace('<|endoftext|>', ''))\n",
        "      return generatedSentenceArr"
      ],
      "execution_count": null,
      "outputs": []
    },
    {
      "cell_type": "code",
      "metadata": {
        "id": "z_gxzkfuF0vv"
      },
      "source": [
        "import matplotlib.pyplot as plt\n",
        "import pandas as pd\n",
        "import numpy as np\n",
        "from sklearn.metrics import accuracy_score, precision_score, recall_score, f1_score, confusion_matrix\n",
        "import seaborn as sns\n",
        "from sklearn.decomposition import PCA\n",
        "from sklearn.manifold import TSNE"
      ],
      "execution_count": 1,
      "outputs": []
    },
    {
      "cell_type": "code",
      "metadata": {
        "id": "AmbgitLjOHAr"
      },
      "source": [
        "df = pd.read_csv('train.csv', header=None)"
      ],
      "execution_count": 20,
      "outputs": []
    },
    {
      "cell_type": "code",
      "metadata": {
        "id": "aZlqqEc6OsfH"
      },
      "source": [
        "df.columns = ['label', 'question', 'question2', 'answer']"
      ],
      "execution_count": 21,
      "outputs": []
    },
    {
      "cell_type": "code",
      "metadata": {
        "colab": {
          "base_uri": "https://localhost:8080/",
          "height": 293
        },
        "id": "Cixon7c7OcpG",
        "outputId": "199750af-1f0c-494b-ba87-0066532e1170"
      },
      "source": [
        "df.head()"
      ],
      "execution_count": 22,
      "outputs": [
        {
          "output_type": "execute_result",
          "data": {
            "text/html": [
              "<div>\n",
              "<style scoped>\n",
              "    .dataframe tbody tr th:only-of-type {\n",
              "        vertical-align: middle;\n",
              "    }\n",
              "\n",
              "    .dataframe tbody tr th {\n",
              "        vertical-align: top;\n",
              "    }\n",
              "\n",
              "    .dataframe thead th {\n",
              "        text-align: right;\n",
              "    }\n",
              "</style>\n",
              "<table border=\"1\" class=\"dataframe\">\n",
              "  <thead>\n",
              "    <tr style=\"text-align: right;\">\n",
              "      <th></th>\n",
              "      <th>label</th>\n",
              "      <th>question</th>\n",
              "      <th>question2</th>\n",
              "      <th>answer</th>\n",
              "    </tr>\n",
              "  </thead>\n",
              "  <tbody>\n",
              "    <tr>\n",
              "      <th>0</th>\n",
              "      <td>5</td>\n",
              "      <td>why doesn't an optical mouse work on a glass t...</td>\n",
              "      <td>or even on some surfaces?</td>\n",
              "      <td>Optical mice use an LED and a camera to rapidl...</td>\n",
              "    </tr>\n",
              "    <tr>\n",
              "      <th>1</th>\n",
              "      <td>6</td>\n",
              "      <td>What is the best off-road motorcycle trail ?</td>\n",
              "      <td>long-distance trail throughout CA</td>\n",
              "      <td>i hear that the mojave road is amazing!&lt;br /&gt;\\...</td>\n",
              "    </tr>\n",
              "    <tr>\n",
              "      <th>2</th>\n",
              "      <td>3</td>\n",
              "      <td>What is Trans Fat? How to reduce that?</td>\n",
              "      <td>I heard that tras fat is bad for the body.  Wh...</td>\n",
              "      <td>Trans fats occur in manufactured foods during ...</td>\n",
              "    </tr>\n",
              "    <tr>\n",
              "      <th>3</th>\n",
              "      <td>7</td>\n",
              "      <td>How many planes Fedex has?</td>\n",
              "      <td>I heard that it is the largest airline in the ...</td>\n",
              "      <td>according to the www.fedex.com web site:\\nAir ...</td>\n",
              "    </tr>\n",
              "    <tr>\n",
              "      <th>4</th>\n",
              "      <td>7</td>\n",
              "      <td>In the san francisco bay area, does it make se...</td>\n",
              "      <td>the prices of rent and the price of buying doe...</td>\n",
              "      <td>renting vs buying depends on your goals. &lt;br /...</td>\n",
              "    </tr>\n",
              "  </tbody>\n",
              "</table>\n",
              "</div>"
            ],
            "text/plain": [
              "   label  ...                                             answer\n",
              "0      5  ...  Optical mice use an LED and a camera to rapidl...\n",
              "1      6  ...  i hear that the mojave road is amazing!<br />\\...\n",
              "2      3  ...  Trans fats occur in manufactured foods during ...\n",
              "3      7  ...  according to the www.fedex.com web site:\\nAir ...\n",
              "4      7  ...  renting vs buying depends on your goals. <br /...\n",
              "\n",
              "[5 rows x 4 columns]"
            ]
          },
          "metadata": {
            "tags": []
          },
          "execution_count": 22
        }
      ]
    },
    {
      "cell_type": "code",
      "metadata": {
        "id": "y4sXM4W6UKAT"
      },
      "source": [
        "df['question'] = df['question'].astype('string')\n",
        "df['question2'] = df['question2'].astype('string')\n",
        "df['answer'] = df['answer'].astype('string')"
      ],
      "execution_count": null,
      "outputs": []
    },
    {
      "cell_type": "code",
      "metadata": {
        "colab": {
          "base_uri": "https://localhost:8080/"
        },
        "id": "XZTV5UW_HU7V",
        "outputId": "fcacfe27-2af6-4542-c5a8-66c3df2f8056"
      },
      "source": [
        "topics = [['Society', 'Culture'], \n",
        "          ['Science', 'Mathematics'], \n",
        "          ['Health'], \n",
        "          ['Education', 'Reference'],\n",
        "          ['Computers', 'Internet'], \n",
        "          ['Sports'], \n",
        "          ['Business', 'Finance'], \n",
        "          ['Entertainment', 'Music'],\n",
        "          ['Family', 'Relationship'],\n",
        "          ['Politics', 'Government']\n",
        "]\n",
        "print(topics)"
      ],
      "execution_count": 23,
      "outputs": [
        {
          "output_type": "stream",
          "text": [
            "[['Society', 'Culture'], ['Science', 'Mathematics'], ['Health'], ['Education', 'Reference'], ['Computers', 'Internet'], ['Sports'], ['Business', 'Finance'], ['Entertainment', 'Music'], ['Family', 'Relationship'], ['Politics', 'Government']]\n"
          ],
          "name": "stdout"
        }
      ]
    },
    {
      "cell_type": "code",
      "metadata": {
        "colab": {
          "base_uri": "https://localhost:8080/"
        },
        "id": "HPKA0Y3IdQjc",
        "outputId": "26ec5025-b4c5-4277-c361-b1ed7744703a"
      },
      "source": [
        "df['labelText'] = 'labelText'\n",
        "for i in range(len(topics)):\n",
        "  if len(topics[i]) > 1:\n",
        "    print(i)\n",
        "    df.loc[df['label'] == i+1, 'labelText'] = topics[i][0] + ' & ' + topics[i][1]\n",
        "  else:\n",
        "    df.loc[df['label'] == i+1, 'labelText'] = topics[i][0]"
      ],
      "execution_count": 31,
      "outputs": [
        {
          "output_type": "stream",
          "text": [
            "0\n",
            "1\n",
            "3\n",
            "4\n",
            "6\n",
            "7\n",
            "8\n",
            "9\n"
          ],
          "name": "stdout"
        }
      ]
    },
    {
      "cell_type": "code",
      "metadata": {
        "colab": {
          "base_uri": "https://localhost:8080/",
          "height": 293
        },
        "id": "sx1W4YaveBfS",
        "outputId": "75d8d548-1388-4ac9-ef2e-9f24261d97b4"
      },
      "source": [
        "df.head()"
      ],
      "execution_count": 32,
      "outputs": [
        {
          "output_type": "execute_result",
          "data": {
            "text/html": [
              "<div>\n",
              "<style scoped>\n",
              "    .dataframe tbody tr th:only-of-type {\n",
              "        vertical-align: middle;\n",
              "    }\n",
              "\n",
              "    .dataframe tbody tr th {\n",
              "        vertical-align: top;\n",
              "    }\n",
              "\n",
              "    .dataframe thead th {\n",
              "        text-align: right;\n",
              "    }\n",
              "</style>\n",
              "<table border=\"1\" class=\"dataframe\">\n",
              "  <thead>\n",
              "    <tr style=\"text-align: right;\">\n",
              "      <th></th>\n",
              "      <th>label</th>\n",
              "      <th>question</th>\n",
              "      <th>question2</th>\n",
              "      <th>answer</th>\n",
              "      <th>labelText</th>\n",
              "    </tr>\n",
              "  </thead>\n",
              "  <tbody>\n",
              "    <tr>\n",
              "      <th>0</th>\n",
              "      <td>5</td>\n",
              "      <td>why doesn't an optical mouse work on a glass t...</td>\n",
              "      <td>or even on some surfaces?</td>\n",
              "      <td>Optical mice use an LED and a camera to rapidl...</td>\n",
              "      <td>Computers &amp; Internet</td>\n",
              "    </tr>\n",
              "    <tr>\n",
              "      <th>1</th>\n",
              "      <td>6</td>\n",
              "      <td>What is the best off-road motorcycle trail ?</td>\n",
              "      <td>long-distance trail throughout CA</td>\n",
              "      <td>i hear that the mojave road is amazing!&lt;br /&gt;\\...</td>\n",
              "      <td>Sports</td>\n",
              "    </tr>\n",
              "    <tr>\n",
              "      <th>2</th>\n",
              "      <td>3</td>\n",
              "      <td>What is Trans Fat? How to reduce that?</td>\n",
              "      <td>I heard that tras fat is bad for the body.  Wh...</td>\n",
              "      <td>Trans fats occur in manufactured foods during ...</td>\n",
              "      <td>Health</td>\n",
              "    </tr>\n",
              "    <tr>\n",
              "      <th>3</th>\n",
              "      <td>7</td>\n",
              "      <td>How many planes Fedex has?</td>\n",
              "      <td>I heard that it is the largest airline in the ...</td>\n",
              "      <td>according to the www.fedex.com web site:\\nAir ...</td>\n",
              "      <td>Business &amp; Finance</td>\n",
              "    </tr>\n",
              "    <tr>\n",
              "      <th>4</th>\n",
              "      <td>7</td>\n",
              "      <td>In the san francisco bay area, does it make se...</td>\n",
              "      <td>the prices of rent and the price of buying doe...</td>\n",
              "      <td>renting vs buying depends on your goals. &lt;br /...</td>\n",
              "      <td>Business &amp; Finance</td>\n",
              "    </tr>\n",
              "  </tbody>\n",
              "</table>\n",
              "</div>"
            ],
            "text/plain": [
              "   label  ...             labelText\n",
              "0      5  ...  Computers & Internet\n",
              "1      6  ...                Sports\n",
              "2      3  ...                Health\n",
              "3      7  ...    Business & Finance\n",
              "4      7  ...    Business & Finance\n",
              "\n",
              "[5 rows x 5 columns]"
            ]
          },
          "metadata": {
            "tags": []
          },
          "execution_count": 32
        }
      ]
    },
    {
      "cell_type": "code",
      "metadata": {
        "colab": {
          "base_uri": "https://localhost:8080/"
        },
        "id": "7BgxEL0OPXm4",
        "outputId": "5d42f02a-f41c-4a5e-b3a3-d7fffe2587a2"
      },
      "source": [
        "df.groupby('label').count()['question']"
      ],
      "execution_count": null,
      "outputs": [
        {
          "output_type": "execute_result",
          "data": {
            "text/plain": [
              "label\n",
              "1     140000\n",
              "2     140000\n",
              "3     140000\n",
              "4     140000\n",
              "5     140000\n",
              "6     140000\n",
              "7     140000\n",
              "8     140000\n",
              "9     140000\n",
              "10    140000\n",
              "Name: question, dtype: int64"
            ]
          },
          "metadata": {
            "tags": []
          },
          "execution_count": 17
        }
      ]
    },
    {
      "cell_type": "code",
      "metadata": {
        "colab": {
          "base_uri": "https://localhost:8080/"
        },
        "id": "BoO_wtzLSDg5",
        "outputId": "c9af4709-a68d-48df-c745-68cfac220e5e"
      },
      "source": [
        "print(sum(list(df['question'].notna())))\n",
        "print(sum(list(df['question2'].notna())))\n",
        "print(sum(list(df['answer'].notna())))\n",
        "\n",
        "df = df[df['question2'].notna()]\n",
        "df = df[df['answer'].notna()]\n",
        "\n"
      ],
      "execution_count": 34,
      "outputs": [
        {
          "output_type": "stream",
          "text": [
            "1400000\n",
            "768325\n",
            "1375421\n"
          ],
          "name": "stdout"
        }
      ]
    },
    {
      "cell_type": "code",
      "metadata": {
        "colab": {
          "base_uri": "https://localhost:8080/",
          "height": 296
        },
        "id": "ZzcS86-2Qd6o",
        "outputId": "849c261f-9890-43ce-f2ac-d99d85f68b97"
      },
      "source": [
        "ax = df['answer'].str.split(' ').str.len().hist(bins=range(0, 200, 20))\n",
        "ax.set_xlabel('Answer length in words')\n",
        "ax.set_ylabel('Frequency')"
      ],
      "execution_count": null,
      "outputs": [
        {
          "output_type": "execute_result",
          "data": {
            "text/plain": [
              "Text(0, 0.5, 'Frequency')"
            ]
          },
          "metadata": {
            "tags": []
          },
          "execution_count": 9
        },
        {
          "output_type": "display_data",
          "data": {
            "image/png": "[encoded data removed]",
            "text/plain": [
              "<Figure size 432x288 with 1 Axes>"
            ]
          },
          "metadata": {
            "tags": [],
            "needs_background": "light"
          }
        }
      ]
    },
    {
      "cell_type": "code",
      "metadata": {
        "colab": {
          "base_uri": "https://localhost:8080/",
          "height": 296
        },
        "id": "txzwzru2Rbsh",
        "outputId": "00ca9270-3169-4230-c7d8-7147ab254d1e"
      },
      "source": [
        "ax = df['question'].str.split().str.len().hist(bins=15)\n",
        "ax.set_xlabel('Question title length in words')\n",
        "ax.set_ylabel('Frequency')"
      ],
      "execution_count": null,
      "outputs": [
        {
          "output_type": "execute_result",
          "data": {
            "text/plain": [
              "Text(0, 0.5, 'Frequency')"
            ]
          },
          "metadata": {
            "tags": []
          },
          "execution_count": 10
        },
        {
          "output_type": "display_data",
          "data": {
            "image/png": "[encoded data removed]",
            "text/plain": [
              "<Figure size 432x288 with 1 Axes>"
            ]
          },
          "metadata": {
            "tags": [],
            "needs_background": "light"
          }
        }
      ]
    },
    {
      "cell_type": "code",
      "metadata": {
        "colab": {
          "base_uri": "https://localhost:8080/",
          "height": 296
        },
        "id": "ospPy7UeqraP",
        "outputId": "7d729c14-a9a9-4a08-ab95-248c0d573dcf"
      },
      "source": [
        "ax = df['question2'].str.split().str.len().hist(bins=range(0,300, 25))\n",
        "ax.set_xlabel('Question body length in words')\n",
        "ax.set_ylabel('Frequency')"
      ],
      "execution_count": null,
      "outputs": [
        {
          "output_type": "execute_result",
          "data": {
            "text/plain": [
              "Text(0, 0.5, 'Frequency')"
            ]
          },
          "metadata": {
            "tags": []
          },
          "execution_count": 14
        },
        {
          "output_type": "display_data",
          "data": {
            "image/png": "[encoded data removed]",
            "text/plain": [
              "<Figure size 432x288 with 1 Axes>"
            ]
          },
          "metadata": {
            "tags": [],
            "needs_background": "light"
          }
        }
      ]
    },
    {
      "cell_type": "code",
      "metadata": {
        "colab": {
          "base_uri": "https://localhost:8080/"
        },
        "id": "z1UboAE0U5QN",
        "outputId": "6c374349-8427-4e24-ffaa-75fcb97712ed"
      },
      "source": [
        "df.count()"
      ],
      "execution_count": null,
      "outputs": [
        {
          "output_type": "execute_result",
          "data": {
            "text/plain": [
              "label        753655\n",
              "question     753655\n",
              "question2    753655\n",
              "answer       753655\n",
              "dtype: int64"
            ]
          },
          "metadata": {
            "tags": []
          },
          "execution_count": 13
        }
      ]
    },
    {
      "cell_type": "code",
      "metadata": {
        "colab": {
          "base_uri": "https://localhost:8080/"
        },
        "id": "bRfWVAPSmYAt",
        "outputId": "da4aafa0-8aab-412a-8331-7d9b726d3066"
      },
      "source": [
        "df.groupby('label').count()['question']"
      ],
      "execution_count": null,
      "outputs": [
        {
          "output_type": "execute_result",
          "data": {
            "text/plain": [
              "label\n",
              "1     85299\n",
              "2     67700\n",
              "3     77872\n",
              "4     68381\n",
              "5     75536\n",
              "6     65859\n",
              "7     62915\n",
              "8     80177\n",
              "9     88434\n",
              "10    81482\n",
              "Name: question, dtype: int64"
            ]
          },
          "metadata": {
            "tags": []
          },
          "execution_count": 14
        }
      ]
    },
    {
      "cell_type": "code",
      "metadata": {
        "id": "FtiukgsPPLMs"
      },
      "source": [
        "# df['text'] = df['answer'].str.slice(start=0, stop=200)\n",
        "# df['ShortDescription'] = df['ShortDescription'].str.split('-')"
      ],
      "execution_count": null,
      "outputs": []
    },
    {
      "cell_type": "code",
      "metadata": {
        "id": "nEltSIOc1aIv"
      },
      "source": [
        "# sampleSize = 7536\n",
        "# dfMin = df.head(sampleSize)\n",
        "dfMin = df"
      ],
      "execution_count": null,
      "outputs": []
    },
    {
      "cell_type": "code",
      "metadata": {
        "colab": {
          "base_uri": "https://localhost:8080/",
          "height": 293
        },
        "id": "XWrCrtrI2Nch",
        "outputId": "0bdebfcb-8bb6-4ba3-ea4e-8e0b33ad5b2a"
      },
      "source": [
        "dfMin.head()"
      ],
      "execution_count": null,
      "outputs": [
        {
          "output_type": "execute_result",
          "data": {
            "text/html": [
              "<div>\n",
              "<style scoped>\n",
              "    .dataframe tbody tr th:only-of-type {\n",
              "        vertical-align: middle;\n",
              "    }\n",
              "\n",
              "    .dataframe tbody tr th {\n",
              "        vertical-align: top;\n",
              "    }\n",
              "\n",
              "    .dataframe thead th {\n",
              "        text-align: right;\n",
              "    }\n",
              "</style>\n",
              "<table border=\"1\" class=\"dataframe\">\n",
              "  <thead>\n",
              "    <tr style=\"text-align: right;\">\n",
              "      <th></th>\n",
              "      <th>label</th>\n",
              "      <th>question</th>\n",
              "      <th>question2</th>\n",
              "      <th>answer</th>\n",
              "    </tr>\n",
              "  </thead>\n",
              "  <tbody>\n",
              "    <tr>\n",
              "      <th>0</th>\n",
              "      <td>5</td>\n",
              "      <td>why doesn't an optical mouse work on a glass t...</td>\n",
              "      <td>or even on some surfaces?</td>\n",
              "      <td>Optical mice use an LED and a camera to rapidl...</td>\n",
              "    </tr>\n",
              "    <tr>\n",
              "      <th>1</th>\n",
              "      <td>6</td>\n",
              "      <td>What is the best off-road motorcycle trail ?</td>\n",
              "      <td>long-distance trail throughout CA</td>\n",
              "      <td>i hear that the mojave road is amazing!&lt;br /&gt;\\...</td>\n",
              "    </tr>\n",
              "    <tr>\n",
              "      <th>2</th>\n",
              "      <td>3</td>\n",
              "      <td>What is Trans Fat? How to reduce that?</td>\n",
              "      <td>I heard that tras fat is bad for the body.  Wh...</td>\n",
              "      <td>Trans fats occur in manufactured foods during ...</td>\n",
              "    </tr>\n",
              "    <tr>\n",
              "      <th>3</th>\n",
              "      <td>7</td>\n",
              "      <td>How many planes Fedex has?</td>\n",
              "      <td>I heard that it is the largest airline in the ...</td>\n",
              "      <td>according to the www.fedex.com web site:\\nAir ...</td>\n",
              "    </tr>\n",
              "    <tr>\n",
              "      <th>4</th>\n",
              "      <td>7</td>\n",
              "      <td>In the san francisco bay area, does it make se...</td>\n",
              "      <td>the prices of rent and the price of buying doe...</td>\n",
              "      <td>renting vs buying depends on your goals. &lt;br /...</td>\n",
              "    </tr>\n",
              "  </tbody>\n",
              "</table>\n",
              "</div>"
            ],
            "text/plain": [
              "   label  ...                                             answer\n",
              "0      5  ...  Optical mice use an LED and a camera to rapidl...\n",
              "1      6  ...  i hear that the mojave road is amazing!<br />\\...\n",
              "2      3  ...  Trans fats occur in manufactured foods during ...\n",
              "3      7  ...  according to the www.fedex.com web site:\\nAir ...\n",
              "4      7  ...  renting vs buying depends on your goals. <br /...\n",
              "\n",
              "[5 rows x 4 columns]"
            ]
          },
          "metadata": {
            "tags": []
          },
          "execution_count": 30
        }
      ]
    },
    {
      "cell_type": "code",
      "metadata": {
        "id": "IZcf25o0A-fD"
      },
      "source": [
        "combined = list(dfMin[['question', 'question2', 'answer']].apply(lambda x: '. '.join(x), axis=1))\n",
        "# combined = list(df[['question', 'question2', 'answer']].apply(lambda x: '. '.join(x), axis=1))"
      ],
      "execution_count": null,
      "outputs": []
    },
    {
      "cell_type": "code",
      "metadata": {
        "id": "A-vx4Hwp8F6P"
      },
      "source": [
        "# textEmbeddings = getDocumentEmbedding(list(dfMin['answer']))\n",
        "textEmbeddings = getDocumentEmbedding(combined)"
      ],
      "execution_count": null,
      "outputs": []
    },
    {
      "cell_type": "code",
      "metadata": {
        "id": "W39ZNGqNyvv6"
      },
      "source": [
        "# torch.save(textEmbeddings, 'YahooEmbeddingsFinal.pt')"
      ],
      "execution_count": null,
      "outputs": []
    },
    {
      "cell_type": "code",
      "metadata": {
        "id": "7vtfVsRNl_Zd"
      },
      "source": [
        "textEmbeddings = torch.load('YahooEmbeddingsFinal.pt')"
      ],
      "execution_count": null,
      "outputs": []
    },
    {
      "cell_type": "code",
      "metadata": {
        "colab": {
          "base_uri": "https://localhost:8080/"
        },
        "id": "fxAFTH_EwjGP",
        "outputId": "3779dfbe-9435-46b5-c7fd-d5797ea0a157"
      },
      "source": [
        "textEmbeddings.shape"
      ],
      "execution_count": null,
      "outputs": [
        {
          "output_type": "execute_result",
          "data": {
            "text/plain": [
              "torch.Size([753655, 512])"
            ]
          },
          "metadata": {
            "tags": []
          },
          "execution_count": 11
        }
      ]
    },
    {
      "cell_type": "markdown",
      "metadata": {
        "id": "wDys7NHsZ3Je"
      },
      "source": [
        "## Visualization"
      ]
    },
    {
      "cell_type": "code",
      "metadata": {
        "colab": {
          "base_uri": "https://localhost:8080/"
        },
        "id": "MBcmtYAyZ-Zn",
        "outputId": "4a59f809-61f7-477b-c347-cebbf6616340"
      },
      "source": [
        "!pip install hdf5storage"
      ],
      "execution_count": 11,
      "outputs": [
        {
          "output_type": "stream",
          "text": [
            "Requirement already satisfied: hdf5storage in /usr/local/lib/python3.7/dist-packages (0.1.18)\n",
            "Requirement already satisfied: numpy; python_version >= \"3.4\" in /usr/local/lib/python3.7/dist-packages (from hdf5storage) (1.19.5)\n",
            "Requirement already satisfied: h5py>=2.1; python_version >= \"3.3\" in /usr/local/lib/python3.7/dist-packages (from hdf5storage) (3.1.0)\n",
            "Requirement already satisfied: cached-property; python_version < \"3.8\" in /usr/local/lib/python3.7/dist-packages (from h5py>=2.1; python_version >= \"3.3\"->hdf5storage) (1.5.2)\n"
          ],
          "name": "stdout"
        }
      ]
    },
    {
      "cell_type": "code",
      "metadata": {
        "id": "F_LXGNWZaIsK"
      },
      "source": [
        "import hdf5storage\n",
        "mat = hdf5storage.loadmat('YahooDataset_sgtsnepi.mat')"
      ],
      "execution_count": 13,
      "outputs": []
    },
    {
      "cell_type": "code",
      "metadata": {
        "id": "p5lHNs11aIlG"
      },
      "source": [
        "embeddings2D = mat['Y']"
      ],
      "execution_count": 14,
      "outputs": []
    },
    {
      "cell_type": "code",
      "metadata": {
        "colab": {
          "base_uri": "https://localhost:8080/"
        },
        "id": "y2u2uETxaIZ5",
        "outputId": "6151fad8-7d26-46a7-b235-f51f95f7dafe"
      },
      "source": [
        "embeddings2D.shape"
      ],
      "execution_count": 15,
      "outputs": [
        {
          "output_type": "execute_result",
          "data": {
            "text/plain": [
              "(753655, 2)"
            ]
          },
          "metadata": {
            "tags": []
          },
          "execution_count": 15
        }
      ]
    },
    {
      "cell_type": "code",
      "metadata": {
        "id": "fxChdEYic2Vh"
      },
      "source": [
        "dfBokeh = pd.DataFrame(data={\n",
        "    'x': embeddings2D[:, 0],\n",
        "    'y': embeddings2D[:, 1],\n",
        "    'text': list(df['question']),\n",
        "    'label': list(df['label']),\n",
        "    'labelText': list(df['labelText'])\n",
        "})"
      ],
      "execution_count": 38,
      "outputs": []
    },
    {
      "cell_type": "code",
      "metadata": {
        "id": "x4cHPE8oe09I"
      },
      "source": [
        "dfBokeh['color'] = 'black'\n",
        "dfBokeh.loc[dfBokeh['label']==1   , 'color'] = 'lightcoral'\n",
        "dfBokeh.loc[dfBokeh['label']==2   , 'color'] = 'khaki'\n",
        "dfBokeh.loc[dfBokeh['label']==3   , 'color'] = 'lightskyblue'\n",
        "dfBokeh.loc[dfBokeh['label']==4   , 'color'] = 'olive'\n",
        "dfBokeh.loc[dfBokeh['label']==5   , 'color'] = 'red'\n",
        "dfBokeh.loc[dfBokeh['label']==6   , 'color'] = 'thistle'\n",
        "dfBokeh.loc[dfBokeh['label']==7   , 'color'] = 'mediumseagreen'\n",
        "dfBokeh.loc[dfBokeh['label']==8   , 'color'] = 'sienna'\n",
        "dfBokeh.loc[dfBokeh['label']==9   , 'color'] = 'navy'\n",
        "dfBokeh.loc[dfBokeh['label']==10   , 'color'] = 'moccasin'\n",
        "\n",
        "dfBokeh['size'] = 2"
      ],
      "execution_count": 55,
      "outputs": []
    },
    {
      "cell_type": "code",
      "metadata": {
        "id": "zwaEThV0emQT"
      },
      "source": [
        "# Bokeh Libraries\n",
        "from bokeh.io import output_notebook, output_file, save\n",
        "from bokeh.plotting import figure, show\n",
        "from bokeh.models import HoverTool, OpenURL, TapTool\n",
        "from bokeh.models import ColumnDataSource, CustomJS\n",
        "from bokeh.models import TextInput, Button, Div, Slider, Paragraph\n",
        "from bokeh.layouts import column, row\n",
        "from bokeh import events\n",
        "from bokeh.core.properties import value\n",
        "from bokeh.events import MouseWheel\n",
        "from bokeh.models.glyphs import Text, Circle, Glyph, ImageURL\n",
        "from bokeh.util.browser import view\n",
        "from bokeh.transform import linear_cmap\n",
        "from bokeh.palettes import Spectral6, Turbo256\n",
        "\n",
        "\n",
        "\n",
        "# Output thevisualization directly in the notebook\n",
        "output_notebook()\n",
        "output_file(basePath + 'YahooEmbeddings.html')"
      ],
      "execution_count": 36,
      "outputs": []
    },
    {
      "cell_type": "code",
      "metadata": {
        "id": "QcutT_4QfrbZ"
      },
      "source": [
        "dfBokehSampled = dfBokeh.sample(200000)"
      ],
      "execution_count": 62,
      "outputs": []
    },
    {
      "cell_type": "code",
      "metadata": {
        "colab": {
          "base_uri": "https://localhost:8080/",
          "height": 54
        },
        "id": "bV4PKo0TesR5",
        "outputId": "77188409-b2ba-4ffe-aeaf-a1aec70a8bd1"
      },
      "source": [
        "fig = figure(plot_height=850, plot_width=1000,\n",
        "          match_aspect=True, title='2D embeddings of Yahoo!Answers Dataset documents')\n",
        "# fig.title.text_font_style = 'bold'\n",
        "# fig.title.align = 'center'\n",
        "\n",
        "fig.xgrid.visible=False\n",
        "fig.ygrid.visible=False\n",
        "\n",
        "cds = ColumnDataSource(dfBokehSampled)\n",
        "circleRenderer = fig.circle(x='x', y='y', legend='labelText', size=2, source=cds, color='color')\n",
        "\n",
        "# # Format the tooltip\n",
        "# tooltips = \"\"\"\n",
        "# <div style=\"width:400px;\">\n",
        "# @text\n",
        "# </div>\n",
        "# \"\"\"\n",
        "# # Add the HoverTool to the figure\n",
        "# hover = HoverTool(tooltips=tooltips, renderers=[circleRenderer])\n",
        "# fig.add_tools(hover)\n",
        "show(fig)\n",
        "save(fig)"
      ],
      "execution_count": null,
      "outputs": [
        {
          "output_type": "stream",
          "text": [
            "BokehDeprecationWarning: 'legend' keyword is deprecated, use explicit 'legend_label', 'legend_field', or 'legend_group' keywords instead\n"
          ],
          "name": "stderr"
        },
        {
          "output_type": "display_data",
          "data": {
            "application/javascript": [
              "\n",
              "(function(root) {\n",
              "  function now() {\n",
              "    return new Date();\n",
              "  }\n",
              "\n",
              "  var force = true;\n",
              "\n",
              "  if (typeof root._bokeh_onload_callbacks === \"undefined\" || force === true) {\n",
              "    root._bokeh_onload_callbacks = [];\n",
              "    root._bokeh_is_loading = undefined;\n",
              "  }\n",
              "\n",
              "  var JS_MIME_TYPE = 'application/javascript';\n",
              "  var HTML_MIME_TYPE = 'text/html';\n",
              "  var EXEC_MIME_TYPE = 'application/vnd.bokehjs_exec.v0+json';\n",
              "  var CLASS_NAME = 'output_bokeh rendered_html';\n",
              "\n",
              "  /**\n",
              "   * Render data to the DOM node\n",
              "   */\n",
              "  function render(props, node) {\n",
              "    var script = document.createElement(\"script\");\n",
              "    node.appendChild(script);\n",
              "  }\n",
              "\n",
              "  /**\n",
              "   * Handle when an output is cleared or removed\n",
              "   */\n",
              "  function handleClearOutput(event, handle) {\n",
              "    var cell = handle.cell;\n",
              "\n",
              "    var id = cell.output_area._bokeh_element_id;\n",
              "    var server_id = cell.output_area._bokeh_server_id;\n",
              "    // Clean up Bokeh references\n",
              "    if (id != null && id in Bokeh.index) {\n",
              "      Bokeh.index[id].model.document.clear();\n",
              "      delete Bokeh.index[id];\n",
              "    }\n",
              "\n",
              "    if (server_id !== undefined) {\n",
              "      // Clean up Bokeh references\n",
              "      var cmd = \"from bokeh.io.state import curstate; print(curstate().uuid_to_server['\" + server_id + \"'].get_sessions()[0].document.roots[0]._id)\";\n",
              "      cell.notebook.kernel.execute(cmd, {\n",
              "        iopub: {\n",
              "          output: function(msg) {\n",
              "            var id = msg.content.text.trim();\n",
              "            if (id in Bokeh.index) {\n",
              "              Bokeh.index[id].model.document.clear();\n",
              "              delete Bokeh.index[id];\n",
              "            }\n",
              "          }\n",
              "        }\n",
              "      });\n",
              "      // Destroy server and session\n",
              "      var cmd = \"import bokeh.io.notebook as ion; ion.destroy_server('\" + server_id + \"')\";\n",
              "      cell.notebook.kernel.execute(cmd);\n",
              "    }\n",
              "  }\n",
              "\n",
              "  /**\n",
              "   * Handle when a new output is added\n",
              "   */\n",
              "  function handleAddOutput(event, handle) {\n",
              "    var output_area = handle.output_area;\n",
              "    var output = handle.output;\n",
              "\n",
              "    // limit handleAddOutput to display_data with EXEC_MIME_TYPE content only\n",
              "    if ((output.output_type != \"display_data\") || (!Object.prototype.hasOwnProperty.call(output.data, EXEC_MIME_TYPE))) {\n",
              "      return\n",
              "    }\n",
              "\n",
              "    var toinsert = output_area.element.find(\".\" + CLASS_NAME.split(' ')[0]);\n",
              "\n",
              "    if (output.metadata[EXEC_MIME_TYPE][\"id\"] !== undefined) {\n",
              "      toinsert[toinsert.length - 1].firstChild.textContent = output.data[JS_MIME_TYPE];\n",
              "      // store reference to embed id on output_area\n",
              "      output_area._bokeh_element_id = output.metadata[EXEC_MIME_TYPE][\"id\"];\n",
              "    }\n",
              "    if (output.metadata[EXEC_MIME_TYPE][\"server_id\"] !== undefined) {\n",
              "      var bk_div = document.createElement(\"div\");\n",
              "      bk_div.innerHTML = output.data[HTML_MIME_TYPE];\n",
              "      var script_attrs = bk_div.children[0].attributes;\n",
              "      for (var i = 0; i < script_attrs.length; i++) {\n",
              "        toinsert[toinsert.length - 1].firstChild.setAttribute(script_attrs[i].name, script_attrs[i].value);\n",
              "        toinsert[toinsert.length - 1].firstChild.textContent = bk_div.children[0].textContent\n",
              "      }\n",
              "      // store reference to server id on output_area\n",
              "      output_area._bokeh_server_id = output.metadata[EXEC_MIME_TYPE][\"server_id\"];\n",
              "    }\n",
              "  }\n",
              "\n",
              "  function register_renderer(events, OutputArea) {\n",
              "\n",
              "    function append_mime(data, metadata, element) {\n",
              "      // create a DOM node to render to\n",
              "      var toinsert = this.create_output_subarea(\n",
              "        metadata,\n",
              "        CLASS_NAME,\n",
              "        EXEC_MIME_TYPE\n",
              "      );\n",
              "      this.keyboard_manager.register_events(toinsert);\n",
              "      // Render to node\n",
              "      var props = {data: data, metadata: metadata[EXEC_MIME_TYPE]};\n",
              "      render(props, toinsert[toinsert.length - 1]);\n",
              "      element.append(toinsert);\n",
              "      return toinsert\n",
              "    }\n",
              "\n",
              "    /* Handle when an output is cleared or removed */\n",
              "    events.on('clear_output.CodeCell', handleClearOutput);\n",
              "    events.on('delete.Cell', handleClearOutput);\n",
              "\n",
              "    /* Handle when a new output is added */\n",
              "    events.on('output_added.OutputArea', handleAddOutput);\n",
              "\n",
              "    /**\n",
              "     * Register the mime type and append_mime function with output_area\n",
              "     */\n",
              "    OutputArea.prototype.register_mime_type(EXEC_MIME_TYPE, append_mime, {\n",
              "      /* Is output safe? */\n",
              "      safe: true,\n",
              "      /* Index of renderer in `output_area.display_order` */\n",
              "      index: 0\n",
              "    });\n",
              "  }\n",
              "\n",
              "  // register the mime type if in Jupyter Notebook environment and previously unregistered\n",
              "  if (root.Jupyter !== undefined) {\n",
              "    var events = require('base/js/events');\n",
              "    var OutputArea = require('notebook/js/outputarea').OutputArea;\n",
              "\n",
              "    if (OutputArea.prototype.mime_types().indexOf(EXEC_MIME_TYPE) == -1) {\n",
              "      register_renderer(events, OutputArea);\n",
              "    }\n",
              "  }\n",
              "\n",
              "  \n",
              "  if (typeof (root._bokeh_timeout) === \"undefined\" || force === true) {\n",
              "    root._bokeh_timeout = Date.now() + 5000;\n",
              "    root._bokeh_failed_load = false;\n",
              "  }\n",
              "\n",
              "  var NB_LOAD_WARNING = {'data': {'text/html':\n",
              "     \"<div style='background-color: #fdd'>\\n\"+\n",
              "     \"<p>\\n\"+\n",
              "     \"BokehJS does not appear to have successfully loaded. If loading BokehJS from CDN, this \\n\"+\n",
              "     \"may be due to a slow or bad network connection. Possible fixes:\\n\"+\n",
              "     \"</p>\\n\"+\n",
              "     \"<ul>\\n\"+\n",
              "     \"<li>re-rerun `output_notebook()` to attempt to load from CDN again, or</li>\\n\"+\n",
              "     \"<li>use INLINE resources instead, as so:</li>\\n\"+\n",
              "     \"</ul>\\n\"+\n",
              "     \"<code>\\n\"+\n",
              "     \"from bokeh.resources import INLINE\\n\"+\n",
              "     \"output_notebook(resources=INLINE)\\n\"+\n",
              "     \"</code>\\n\"+\n",
              "     \"</div>\"}};\n",
              "\n",
              "  function display_loaded() {\n",
              "    var el = document.getElementById(null);\n",
              "    if (el != null) {\n",
              "      el.textContent = \"BokehJS is loading...\";\n",
              "    }\n",
              "    if (root.Bokeh !== undefined) {\n",
              "      if (el != null) {\n",
              "        el.textContent = \"BokehJS \" + root.Bokeh.version + \" successfully loaded.\";\n",
              "      }\n",
              "    } else if (Date.now() < root._bokeh_timeout) {\n",
              "      setTimeout(display_loaded, 100)\n",
              "    }\n",
              "  }\n",
              "\n",
              "\n",
              "  function run_callbacks() {\n",
              "    try {\n",
              "      root._bokeh_onload_callbacks.forEach(function(callback) {\n",
              "        if (callback != null)\n",
              "          callback();\n",
              "      });\n",
              "    } finally {\n",
              "      delete root._bokeh_onload_callbacks\n",
              "    }\n",
              "    console.debug(\"Bokeh: all callbacks have finished\");\n",
              "  }\n",
              "\n",
              "  function load_libs(css_urls, js_urls, callback) {\n",
              "    if (css_urls == null) css_urls = [];\n",
              "    if (js_urls == null) js_urls = [];\n",
              "\n",
              "    root._bokeh_onload_callbacks.push(callback);\n",
              "    if (root._bokeh_is_loading > 0) {\n",
              "      console.debug(\"Bokeh: BokehJS is being loaded, scheduling callback at\", now());\n",
              "      return null;\n",
              "    }\n",
              "    if (js_urls == null || js_urls.length === 0) {\n",
              "      run_callbacks();\n",
              "      return null;\n",
              "    }\n",
              "    console.debug(\"Bokeh: BokehJS not loaded, scheduling load and callback at\", now());\n",
              "    root._bokeh_is_loading = css_urls.length + js_urls.length;\n",
              "\n",
              "    function on_load() {\n",
              "      root._bokeh_is_loading--;\n",
              "      if (root._bokeh_is_loading === 0) {\n",
              "        console.debug(\"Bokeh: all BokehJS libraries/stylesheets loaded\");\n",
              "        run_callbacks()\n",
              "      }\n",
              "    }\n",
              "\n",
              "    function on_error(url) {\n",
              "      console.error(\"failed to load \" + url);\n",
              "    }\n",
              "\n",
              "    for (let i = 0; i < css_urls.length; i++) {\n",
              "      const url = css_urls[i];\n",
              "      const element = document.createElement(\"link\");\n",
              "      element.onload = on_load;\n",
              "      element.onerror = on_error.bind(null, url);\n",
              "      element.rel = \"stylesheet\";\n",
              "      element.type = \"text/css\";\n",
              "      element.href = url;\n",
              "      console.debug(\"Bokeh: injecting link tag for BokehJS stylesheet: \", url);\n",
              "      document.body.appendChild(element);\n",
              "    }\n",
              "\n",
              "    const hashes = {\"https://cdn.bokeh.org/bokeh/release/bokeh-2.3.2.min.js\": \"XypntL49z55iwGVUW4qsEu83zKL3XEcz0MjuGOQ9SlaaQ68X/g+k1FcioZi7oQAc\", \"https://cdn.bokeh.org/bokeh/release/bokeh-tables-2.3.2.min.js\": \"bEsM86IHGDTLCS0Zod8a8WM6Y4+lafAL/eSiyQcuPzinmWNgNO2/olUF0Z2Dkn5i\", \"https://cdn.bokeh.org/bokeh/release/bokeh-widgets-2.3.2.min.js\": \"TX0gSQTdXTTeScqxj6PVQxTiRW8DOoGVwinyi1D3kxv7wuxQ02XkOxv0xwiypcAH\"};\n",
              "\n",
              "    for (let i = 0; i < js_urls.length; i++) {\n",
              "      const url = js_urls[i];\n",
              "      const element = document.createElement('script');\n",
              "      element.onload = on_load;\n",
              "      element.onerror = on_error.bind(null, url);\n",
              "      element.async = false;\n",
              "      element.src = url;\n",
              "      if (url in hashes) {\n",
              "        element.crossOrigin = \"anonymous\";\n",
              "        element.integrity = \"sha384-\" + hashes[url];\n",
              "      }\n",
              "      console.debug(\"Bokeh: injecting script tag for BokehJS library: \", url);\n",
              "      document.head.appendChild(element);\n",
              "    }\n",
              "  };\n",
              "\n",
              "  function inject_raw_css(css) {\n",
              "    const element = document.createElement(\"style\");\n",
              "    element.appendChild(document.createTextNode(css));\n",
              "    document.body.appendChild(element);\n",
              "  }\n",
              "\n",
              "  \n",
              "  var js_urls = [\"https://cdn.bokeh.org/bokeh/release/bokeh-2.3.2.min.js\", \"https://cdn.bokeh.org/bokeh/release/bokeh-widgets-2.3.2.min.js\", \"https://cdn.bokeh.org/bokeh/release/bokeh-tables-2.3.2.min.js\"];\n",
              "  var css_urls = [];\n",
              "  \n",
              "\n",
              "  var inline_js = [\n",
              "    function(Bokeh) {\n",
              "      Bokeh.set_log_level(\"info\");\n",
              "    },\n",
              "    function(Bokeh) {\n",
              "    \n",
              "    \n",
              "    }\n",
              "  ];\n",
              "\n",
              "  function run_inline_js() {\n",
              "    \n",
              "    if (root.Bokeh !== undefined || force === true) {\n",
              "      \n",
              "    for (var i = 0; i < inline_js.length; i++) {\n",
              "      inline_js[i].call(root, root.Bokeh);\n",
              "    }\n",
              "    } else if (Date.now() < root._bokeh_timeout) {\n",
              "      setTimeout(run_inline_js, 100);\n",
              "    } else if (!root._bokeh_failed_load) {\n",
              "      console.log(\"Bokeh: BokehJS failed to load within specified timeout.\");\n",
              "      root._bokeh_failed_load = true;\n",
              "    } else if (force !== true) {\n",
              "      var cell = $(document.getElementById(null)).parents('.cell').data().cell;\n",
              "      cell.output_area.append_execute_result(NB_LOAD_WARNING)\n",
              "    }\n",
              "\n",
              "  }\n",
              "\n",
              "  if (root._bokeh_is_loading === 0) {\n",
              "    console.debug(\"Bokeh: BokehJS loaded, going straight to plotting\");\n",
              "    run_inline_js();\n",
              "  } else {\n",
              "    load_libs(css_urls, js_urls, function() {\n",
              "      console.debug(\"Bokeh: BokehJS plotting callback run at\", now());\n",
              "      run_inline_js();\n",
              "    });\n",
              "  }\n",
              "}(window));"
            ],
            "application/vnd.bokehjs_load.v0+json": "\n(function(root) {\n  function now() {\n    return new Date();\n  }\n\n  var force = true;\n\n  if (typeof root._bokeh_onload_callbacks === \"undefined\" || force === true) {\n    root._bokeh_onload_callbacks = [];\n    root._bokeh_is_loading = undefined;\n  }\n\n  \n\n  \n  if (typeof (root._bokeh_timeout) === \"undefined\" || force === true) {\n    root._bokeh_timeout = Date.now() + 5000;\n    root._bokeh_failed_load = false;\n  }\n\n  var NB_LOAD_WARNING = {'data': {'text/html':\n     \"<div style='background-color: #fdd'>\\n\"+\n     \"<p>\\n\"+\n     \"BokehJS does not appear to have successfully loaded. If loading BokehJS from CDN, this \\n\"+\n     \"may be due to a slow or bad network connection. Possible fixes:\\n\"+\n     \"</p>\\n\"+\n     \"<ul>\\n\"+\n     \"<li>re-rerun `output_notebook()` to attempt to load from CDN again, or</li>\\n\"+\n     \"<li>use INLINE resources instead, as so:</li>\\n\"+\n     \"</ul>\\n\"+\n     \"<code>\\n\"+\n     \"from bokeh.resources import INLINE\\n\"+\n     \"output_notebook(resources=INLINE)\\n\"+\n     \"</code>\\n\"+\n     \"</div>\"}};\n\n  function display_loaded() {\n    var el = document.getElementById(null);\n    if (el != null) {\n      el.textContent = \"BokehJS is loading...\";\n    }\n    if (root.Bokeh !== undefined) {\n      if (el != null) {\n        el.textContent = \"BokehJS \" + root.Bokeh.version + \" successfully loaded.\";\n      }\n    } else if (Date.now() < root._bokeh_timeout) {\n      setTimeout(display_loaded, 100)\n    }\n  }\n\n\n  function run_callbacks() {\n    try {\n      root._bokeh_onload_callbacks.forEach(function(callback) {\n        if (callback != null)\n          callback();\n      });\n    } finally {\n      delete root._bokeh_onload_callbacks\n    }\n    console.debug(\"Bokeh: all callbacks have finished\");\n  }\n\n  function load_libs(css_urls, js_urls, callback) {\n    if (css_urls == null) css_urls = [];\n    if (js_urls == null) js_urls = [];\n\n    root._bokeh_onload_callbacks.push(callback);\n    if (root._bokeh_is_loading > 0) {\n      console.debug(\"Bokeh: BokehJS is being loaded, scheduling callback at\", now());\n      return null;\n    }\n    if (js_urls == null || js_urls.length === 0) {\n      run_callbacks();\n      return null;\n    }\n    console.debug(\"Bokeh: BokehJS not loaded, scheduling load and callback at\", now());\n    root._bokeh_is_loading = css_urls.length + js_urls.length;\n\n    function on_load() {\n      root._bokeh_is_loading--;\n      if (root._bokeh_is_loading === 0) {\n        console.debug(\"Bokeh: all BokehJS libraries/stylesheets loaded\");\n        run_callbacks()\n      }\n    }\n\n    function on_error(url) {\n      console.error(\"failed to load \" + url);\n    }\n\n    for (let i = 0; i < css_urls.length; i++) {\n      const url = css_urls[i];\n      const element = document.createElement(\"link\");\n      element.onload = on_load;\n      element.onerror = on_error.bind(null, url);\n      element.rel = \"stylesheet\";\n      element.type = \"text/css\";\n      element.href = url;\n      console.debug(\"Bokeh: injecting link tag for BokehJS stylesheet: \", url);\n      document.body.appendChild(element);\n    }\n\n    const hashes = {\"https://cdn.bokeh.org/bokeh/release/bokeh-2.3.2.min.js\": \"XypntL49z55iwGVUW4qsEu83zKL3XEcz0MjuGOQ9SlaaQ68X/g+k1FcioZi7oQAc\", \"https://cdn.bokeh.org/bokeh/release/bokeh-tables-2.3.2.min.js\": \"bEsM86IHGDTLCS0Zod8a8WM6Y4+lafAL/eSiyQcuPzinmWNgNO2/olUF0Z2Dkn5i\", \"https://cdn.bokeh.org/bokeh/release/bokeh-widgets-2.3.2.min.js\": \"TX0gSQTdXTTeScqxj6PVQxTiRW8DOoGVwinyi1D3kxv7wuxQ02XkOxv0xwiypcAH\"};\n\n    for (let i = 0; i < js_urls.length; i++) {\n      const url = js_urls[i];\n      const element = document.createElement('script');\n      element.onload = on_load;\n      element.onerror = on_error.bind(null, url);\n      element.async = false;\n      element.src = url;\n      if (url in hashes) {\n        element.crossOrigin = \"anonymous\";\n        element.integrity = \"sha384-\" + hashes[url];\n      }\n      console.debug(\"Bokeh: injecting script tag for BokehJS library: \", url);\n      document.head.appendChild(element);\n    }\n  };\n\n  function inject_raw_css(css) {\n    const element = document.createElement(\"style\");\n    element.appendChild(document.createTextNode(css));\n    document.body.appendChild(element);\n  }\n\n  \n  var js_urls = [\"https://cdn.bokeh.org/bokeh/release/bokeh-2.3.2.min.js\", \"https://cdn.bokeh.org/bokeh/release/bokeh-widgets-2.3.2.min.js\", \"https://cdn.bokeh.org/bokeh/release/bokeh-tables-2.3.2.min.js\"];\n  var css_urls = [];\n  \n\n  var inline_js = [\n    function(Bokeh) {\n      Bokeh.set_log_level(\"info\");\n    },\n    function(Bokeh) {\n    \n    \n    }\n  ];\n\n  function run_inline_js() {\n    \n    if (root.Bokeh !== undefined || force === true) {\n      \n    for (var i = 0; i < inline_js.length; i++) {\n      inline_js[i].call(root, root.Bokeh);\n    }\n    } else if (Date.now() < root._bokeh_timeout) {\n      setTimeout(run_inline_js, 100);\n    } else if (!root._bokeh_failed_load) {\n      console.log(\"Bokeh: BokehJS failed to load within specified timeout.\");\n      root._bokeh_failed_load = true;\n    } else if (force !== true) {\n      var cell = $(document.getElementById(null)).parents('.cell').data().cell;\n      cell.output_area.append_execute_result(NB_LOAD_WARNING)\n    }\n\n  }\n\n  if (root._bokeh_is_loading === 0) {\n    console.debug(\"Bokeh: BokehJS loaded, going straight to plotting\");\n    run_inline_js();\n  } else {\n    load_libs(css_urls, js_urls, function() {\n      console.debug(\"Bokeh: BokehJS plotting callback run at\", now());\n      run_inline_js();\n    });\n  }\n}(window));"
          },
          "metadata": {
            "tags": []
          }
        },
        {
          "output_type": "display_data",
          "data": {
            "text/html": [
              "\n",
              "\n",
              "\n",
              "\n",
              "\n",
              "\n",
              "  <div class=\"bk-root\" id=\"0b15961f-e08a-48fa-ad84-7aabf2f88383\" data-root-id=\"5374\"></div>\n"
            ]
          },
          "metadata": {
            "tags": []
          }
        }
      ]
    },
    {
      "cell_type": "markdown",
      "metadata": {
        "id": "ayQ2v4er5RSW"
      },
      "source": [
        "## Evaluation"
      ]
    },
    {
      "cell_type": "markdown",
      "metadata": {
        "id": "cG-n1jD_1_wv"
      },
      "source": [
        "### Related sentences from training set"
      ]
    },
    {
      "cell_type": "code",
      "metadata": {
        "id": "WznSf5gr2CLO"
      },
      "source": [
        "from sklearn.model_selection import train_test_split"
      ],
      "execution_count": null,
      "outputs": []
    },
    {
      "cell_type": "code",
      "metadata": {
        "id": "UetbUDPb2EC8"
      },
      "source": [
        "train, test = train_test_split(dfMin, test_size=0.2)"
      ],
      "execution_count": null,
      "outputs": []
    },
    {
      "cell_type": "code",
      "metadata": {
        "colab": {
          "base_uri": "https://localhost:8080/"
        },
        "id": "6EgUNXDY2Gqe",
        "outputId": "5dca2b6a-3750-4f18-9916-76cb0b4f0260"
      },
      "source": [
        "relatedSentencesArr  = []\n",
        "relatedEmbeddings    = []\n",
        "nRelatedSentencesArr = []\n",
        "for (iTopic, topic) in enumerate(topics):\n",
        "  print(topic)\n",
        "  idx = list( train['label'] == iTopic+1 )\n",
        "  relatedSentences = list(train[idx]['text'])\n",
        "  relatedSentencesArr.append( relatedSentences )\n",
        "  relatedEmbeddings.append( getEmbedding(relatedSentences) )\n",
        "  nRelatedSentencesArr.append( len(relatedSentences) )"
      ],
      "execution_count": null,
      "outputs": [
        {
          "output_type": "stream",
          "text": [
            "Society\n",
            "Science\n",
            "Health\n",
            "Education\n",
            "Computers\n",
            "Sports\n",
            "Business\n",
            "Entertainment\n",
            "Family\n",
            "Politics\n"
          ],
          "name": "stdout"
        }
      ]
    },
    {
      "cell_type": "code",
      "metadata": {
        "colab": {
          "base_uri": "https://localhost:8080/"
        },
        "id": "25zJNY5p2cTN",
        "outputId": "9a92d701-3f1f-4db3-8bc7-8a03227ee72c"
      },
      "source": [
        "nRelatedSentencesArr"
      ],
      "execution_count": null,
      "outputs": [
        {
          "output_type": "execute_result",
          "data": {
            "text/plain": [
              "[881, 719, 818, 723, 809, 670, 689, 895, 913, 883]"
            ]
          },
          "metadata": {
            "tags": []
          },
          "execution_count": 221
        }
      ]
    },
    {
      "cell_type": "code",
      "metadata": {
        "id": "R01-eo_I2e_4"
      },
      "source": [
        "dfMin = test\n",
        "nSentences = len(dfMin)\n",
        "textEmbeddings = getEmbedding(list(dfMin['text']))"
      ],
      "execution_count": null,
      "outputs": []
    },
    {
      "cell_type": "code",
      "metadata": {
        "colab": {
          "base_uri": "https://localhost:8080/"
        },
        "id": "JDyTPuXL2odi",
        "outputId": "c41062e1-25a4-46ba-e304-e1d2dbd683ba"
      },
      "source": [
        "allEmbeddings = textEmbeddings\n",
        "for (iTopic, topic) in enumerate(topics):\n",
        "  print(topic)\n",
        "  allEmbeddings = np.concatenate([allEmbeddings, relatedEmbeddings[iTopic]])"
      ],
      "execution_count": null,
      "outputs": [
        {
          "output_type": "stream",
          "text": [
            "Society\n",
            "Science\n",
            "Health\n",
            "Education\n",
            "Computers\n",
            "Sports\n",
            "Business\n",
            "Entertainment\n",
            "Family\n",
            "Politics\n"
          ],
          "name": "stdout"
        }
      ]
    },
    {
      "cell_type": "code",
      "metadata": {
        "colab": {
          "base_uri": "https://localhost:8080/",
          "height": 280
        },
        "id": "KHeMQ2aD2qaF",
        "outputId": "50aa294f-73b2-4ab9-cbf2-fd4d0a69c0ca"
      },
      "source": [
        "pca = PCA(n_components=50)\n",
        "embeddingsPCA = pca.fit_transform(allEmbeddings)\n",
        "\n",
        "plt.plot(np.cumsum(pca.explained_variance_ratio_))\n",
        "plt.xlabel('number of components')\n",
        "plt.ylabel('cumulative explained variance');"
      ],
      "execution_count": null,
      "outputs": [
        {
          "output_type": "display_data",
          "data": {
            "image/png": "[encoded data removed]",
            "text/plain": [
              "<Figure size 432x288 with 1 Axes>"
            ]
          },
          "metadata": {
            "tags": [],
            "needs_background": "light"
          }
        }
      ]
    },
    {
      "cell_type": "code",
      "metadata": {
        "id": "0jupy5ND2tAf"
      },
      "source": [
        "# Unbalanced related sentences length\n",
        "relatedEmbeddingsPCA = []\n",
        "for (iTopic, topic) in enumerate(topics):\n",
        "  relatedEmbeddingsPCA.append( torch.tensor(embeddingsPCA[nSentences + sum(nRelatedSentencesArr[0:iTopic]) : nSentences + sum(nRelatedSentencesArr[0:iTopic+1])]) )\n",
        "\n",
        "embeddingsArr = torch.tensor(embeddingsPCA[0:nSentences])"
      ],
      "execution_count": null,
      "outputs": []
    },
    {
      "cell_type": "code",
      "metadata": {
        "colab": {
          "base_uri": "https://localhost:8080/"
        },
        "id": "zvNS_lNO3YZj",
        "outputId": "c57f3dfb-cc9c-4322-9d55-090ba7ec85d2"
      },
      "source": [
        "nSentences"
      ],
      "execution_count": null,
      "outputs": [
        {
          "output_type": "execute_result",
          "data": {
            "text/plain": [
              "2000"
            ]
          },
          "metadata": {
            "tags": []
          },
          "execution_count": 226
        }
      ]
    },
    {
      "cell_type": "code",
      "metadata": {
        "colab": {
          "base_uri": "https://localhost:8080/"
        },
        "id": "4p9spywL2zaX",
        "outputId": "36ab7a35-75e0-4e04-fde3-5c40ce71e7c3"
      },
      "source": [
        "### Mean over related sentences\n",
        "probabilities = torch.zeros(size=(nSentences, len(topics)))\n",
        "# Uncomment to avoid using PCA\n",
        "# embeddingsArr = textEmbeddings\n",
        "\n",
        "for (iTopic, topic) in enumerate(topics):\n",
        "  print(topic)\n",
        "  evaluationEmbeddings = relatedEmbeddingsPCA[iTopic]\n",
        "\n",
        "  meanScore, std, proba = evaluateEmbeddingsMultiple(torch.tensor(embeddingsArr), torch.tensor(evaluationEmbeddings))\n",
        "\n",
        "\n",
        "  probabilities[:, iTopic] = proba.T\n",
        "\n",
        "\n",
        "\n",
        "ypred = torch.argmax(probabilities, dim=1) + 1\n",
        "\n",
        "y = test['label']"
      ],
      "execution_count": null,
      "outputs": [
        {
          "output_type": "stream",
          "text": [
            "Society\n"
          ],
          "name": "stdout"
        },
        {
          "output_type": "stream",
          "text": [
            "/usr/local/lib/python3.6/dist-packages/ipykernel_launcher.py:10: UserWarning: To copy construct from a tensor, it is recommended to use sourceTensor.clone().detach() or sourceTensor.clone().detach().requires_grad_(True), rather than torch.tensor(sourceTensor).\n",
            "  # Remove the CWD from sys.path while we load stuff.\n"
          ],
          "name": "stderr"
        },
        {
          "output_type": "stream",
          "text": [
            "Science\n",
            "Health\n",
            "Education\n",
            "Computers\n",
            "Sports\n",
            "Business\n",
            "Entertainment\n",
            "Family\n",
            "Politics\n"
          ],
          "name": "stdout"
        }
      ]
    },
    {
      "cell_type": "code",
      "metadata": {
        "colab": {
          "base_uri": "https://localhost:8080/"
        },
        "id": "27vchP_-25IZ",
        "outputId": "5a93a235-7b9e-4ffb-f483-9ffab02d8598"
      },
      "source": [
        "print(accuracy_score(y, ypred))"
      ],
      "execution_count": null,
      "outputs": [
        {
          "output_type": "stream",
          "text": [
            "0.4215\n"
          ],
          "name": "stdout"
        }
      ]
    },
    {
      "cell_type": "code",
      "metadata": {
        "colab": {
          "base_uri": "https://localhost:8080/"
        },
        "id": "ZQx8mIgN5I0N",
        "outputId": "f362f1a9-3dd0-4466-9079-e2b79a439f4b"
      },
      "source": [
        "print(precision_score(y, ypred, average=None))\n",
        "print('Precision: {:0.3f}'.format(np.mean(precision_score(y, ypred, average='weighted'))))\n",
        "\n",
        "print(recall_score(y, ypred, average=None))\n",
        "print('Recall: {:0.3f}'.format(np.mean(recall_score(y, ypred, average='weighted'))))\n",
        "\n",
        "print(f1_score(y, ypred, average=None))\n",
        "print('F1: {:0.3f}'.format(np.mean(f1_score(y, ypred, average='weighted'))))"
      ],
      "execution_count": null,
      "outputs": [
        {
          "output_type": "stream",
          "text": [
            "[0.63888889 0.33956386 0.5498008  0.35294118 0.4115942  0.51851852\n",
            " 0.36842105 0.33121019 0.36543909 0.45669291]\n",
            "Precision: 0.437\n",
            "[0.20535714 0.5923913  0.64788732 0.02690583 0.77173913 0.37433155\n",
            " 0.2        0.27659574 0.62318841 0.53953488]\n",
            "Recall: 0.421\n",
            "[0.31081081 0.43168317 0.59482759 0.05       0.536862   0.43478261\n",
            " 0.25925926 0.30144928 0.46071429 0.49466951]\n",
            "F1: 0.385\n"
          ],
          "name": "stdout"
        }
      ]
    },
    {
      "cell_type": "markdown",
      "metadata": {
        "id": "Q7mVbn772IHy"
      },
      "source": [
        "---"
      ]
    },
    {
      "cell_type": "markdown",
      "metadata": {
        "id": "ztvexkwL8KR8"
      },
      "source": [
        "### Related Sentences from GPT-2"
      ]
    },
    {
      "cell_type": "code",
      "metadata": {
        "id": "9wwaoIKZRHb1",
        "colab": {
          "base_uri": "https://localhost:8080/"
        },
        "outputId": "1c025eba-36c5-482c-8336-11b9297a5ec5"
      },
      "source": [
        "# Generate new sentences from each topic\n",
        "relatedEmbeddings = []\n",
        "relatedSentencesArr = []\n",
        "nRelatedSentences = 50\n",
        "for (iTopic, topic) in enumerate(topics):\n",
        "  print(topic)\n",
        "  relatedSentences = []\n",
        "\n",
        "  for label in topic[0:1]:\n",
        "    print(label)\n",
        "    # Baseline\n",
        "    relatedSentences = []\n",
        "    relatedSentences.append(label)\n",
        "    nRelatedSentences = 1\n",
        "    relatedSentencesArr.append(relatedSentences)\n",
        "\n",
        "    # # Enrichment\n",
        "    # relatedSentences = relatedSentences + generate(model, prompt='In other news, ' + label.lower(), n=40, nSentences = int(nRelatedSentences/len(topic)))\n",
        "    # relatedSentencesArr.append(relatedSentences)\n",
        "  # # relatedSentences = [x.replace('\\n', ' ') for x in relatedSentences]\n",
        "\n",
        "  relatedEmbeddings.append(getEmbedding(relatedSentences))\n",
        "\n",
        "  # np.save(topic[0]+'_USE', relatedEmbeddings[iTopic])\n",
        "  # with open(topic[0]+'USE_Raw.txt', 'w') as f:\n",
        "  #   f.write( '\\n'.join(relatedSentences) )"
      ],
      "execution_count": null,
      "outputs": [
        {
          "output_type": "stream",
          "text": [
            "['Society', 'Culture']\n",
            "Society\n",
            "['Science', 'Mathematics']\n",
            "Science\n",
            "['Health']\n",
            "Health\n",
            "['Education', 'Reference']\n",
            "Education\n",
            "['Computers', 'Internet']\n",
            "Computers\n",
            "['Sports']\n",
            "Sports\n",
            "['Business', 'Finance']\n",
            "Business\n",
            "['Entertainment', 'Music']\n",
            "Entertainment\n",
            "['Family', 'Relationship']\n",
            "Family\n",
            "['Politics', 'Government']\n",
            "Politics\n"
          ],
          "name": "stdout"
        }
      ]
    },
    {
      "cell_type": "code",
      "metadata": {
        "id": "sG_7N_VU_gdg",
        "colab": {
          "base_uri": "https://localhost:8080/"
        },
        "outputId": "0f2584da-b508-41ce-e0d4-b1ac7d4353c4"
      },
      "source": [
        "len(relatedEmbeddings[1])"
      ],
      "execution_count": null,
      "outputs": [
        {
          "output_type": "execute_result",
          "data": {
            "text/plain": [
              "1"
            ]
          },
          "metadata": {
            "tags": []
          },
          "execution_count": 25
        }
      ]
    },
    {
      "cell_type": "code",
      "metadata": {
        "id": "iPYoZcU4ebVt"
      },
      "source": [
        "# Used saved sentences\n",
        "relatedEmbeddings = []\n",
        "relatedSentencesArr = []\n",
        "\n",
        "for (iTopic, topic) in enumerate(topics):\n",
        "  relatedEmbeddings.append(np.load(topic[0]+'_USE.npy'))\n",
        "\n",
        "  with open(topic[0]+'USE_Raw.txt', 'r') as f:\n",
        "    relatedSentencesArr.append(f.readlines())"
      ],
      "execution_count": null,
      "outputs": []
    },
    {
      "cell_type": "code",
      "metadata": {
        "colab": {
          "base_uri": "https://localhost:8080/"
        },
        "id": "zf2zBvuvnd3m",
        "outputId": "ac067612-3ae6-4b48-cf83-ee02ee9e0d02"
      },
      "source": [
        "len(relatedEmbeddings[0])"
      ],
      "execution_count": null,
      "outputs": [
        {
          "output_type": "execute_result",
          "data": {
            "text/plain": [
              "50"
            ]
          },
          "metadata": {
            "tags": []
          },
          "execution_count": 36
        }
      ]
    },
    {
      "cell_type": "markdown",
      "metadata": {
        "id": "VyB0RgJ5aBMJ"
      },
      "source": [
        "### PCA"
      ]
    },
    {
      "cell_type": "code",
      "metadata": {
        "colab": {
          "base_uri": "https://localhost:8080/"
        },
        "id": "toKIN7_Q8XrU",
        "outputId": "c20b029f-a26c-4db9-cdd8-ad590f68490f"
      },
      "source": [
        "allEmbeddings = textEmbeddings\n",
        "\n",
        "for (iTopic, topic) in enumerate(topics):\n",
        "  allEmbeddings = np.concatenate([allEmbeddings, relatedEmbeddings[iTopic]])\n",
        "print(allEmbeddings.shape)"
      ],
      "execution_count": null,
      "outputs": [
        {
          "output_type": "stream",
          "text": [
            "(753665, 512)\n"
          ],
          "name": "stdout"
        }
      ]
    },
    {
      "cell_type": "code",
      "metadata": {
        "colab": {
          "base_uri": "https://localhost:8080/",
          "height": 279
        },
        "id": "xs7zgUpcClPY",
        "outputId": "0a5cc5e9-c16e-43df-dc56-fafd83b1824f"
      },
      "source": [
        "pca = PCA(n_components=512)\n",
        "embeddingsPCA = pca.fit_transform(allEmbeddings)\n",
        "\n",
        "plt.plot(np.cumsum(pca.explained_variance_ratio_))\n",
        "plt.xlabel('number of components')\n",
        "plt.ylabel('cumulative explained variance');"
      ],
      "execution_count": null,
      "outputs": [
        {
          "output_type": "display_data",
          "data": {
            "image/png": "[encoded data removed]",
            "text/plain": [
              "<Figure size 432x288 with 1 Axes>"
            ]
          },
          "metadata": {
            "tags": [],
            "needs_background": "light"
          }
        }
      ]
    },
    {
      "cell_type": "code",
      "metadata": {
        "id": "Zrb6sgH38dA_",
        "colab": {
          "base_uri": "https://localhost:8080/"
        },
        "outputId": "5103be83-6954-4583-827f-c9a5f156591e"
      },
      "source": [
        "nRelatedSentences = len(relatedEmbeddings[0])\n",
        "print(nRelatedSentences)\n",
        "nSentences = len(df)#len(dfMin)\n",
        "nTopics = len(topics)"
      ],
      "execution_count": null,
      "outputs": [
        {
          "output_type": "stream",
          "text": [
            "1\n"
          ],
          "name": "stdout"
        }
      ]
    },
    {
      "cell_type": "code",
      "metadata": {
        "colab": {
          "base_uri": "https://localhost:8080/"
        },
        "id": "lCI4vt2y3w7O",
        "outputId": "bef6e2c5-326f-4506-c2e1-81e0b7b8c0ef"
      },
      "source": [
        "nSentences"
      ],
      "execution_count": null,
      "outputs": [
        {
          "output_type": "execute_result",
          "data": {
            "text/plain": [
              "753655"
            ]
          },
          "metadata": {
            "tags": []
          },
          "execution_count": 41
        }
      ]
    },
    {
      "cell_type": "code",
      "metadata": {
        "id": "Xq1bRc098a2g"
      },
      "source": [
        "relatedEmbeddingsPCA = []\n",
        "for (iTopic, topic) in enumerate(topics):\n",
        "  relatedEmbeddingsPCA.append( torch.tensor(embeddingsPCA[nSentences + iTopic*nRelatedSentences : nSentences+(iTopic+1)*nRelatedSentences]) )\n",
        "\n",
        "embeddingsArr = torch.tensor(embeddingsPCA[0:nSentences])"
      ],
      "execution_count": null,
      "outputs": []
    },
    {
      "cell_type": "markdown",
      "metadata": {
        "id": "2jV6eYB-TA96"
      },
      "source": [
        "### Average of related sentences"
      ]
    },
    {
      "cell_type": "code",
      "metadata": {
        "colab": {
          "base_uri": "https://localhost:8080/"
        },
        "id": "C9RilaV9UDzj",
        "outputId": "a1e17e57-2a9c-42c9-fea6-352085b3594b"
      },
      "source": [
        "# probabilitiesQ = torch.zeros(size=(nSentences, nTopics))\n",
        "probabilities = torch.zeros(size=(nSentences, nTopics))\n",
        "\n",
        "for (iTopic, topic) in enumerate(topics):\n",
        "  print(topic)\n",
        "  evaluationEmbeddings = relatedEmbeddingsPCA[iTopic]\n",
        "\n",
        "  meanScore, std, proba = evaluateEmbeddingsMultiple(embeddingsArr, evaluationEmbeddings)\n",
        "  # meanScore, std, probaQ = evaluateEmbeddingsMultiple(embeddingsArrQ, evaluationEmbeddings)\n",
        "\n",
        "\n",
        "  probabilities[:, iTopic]  = proba.T\n",
        "  # probabilitiesQ[:, iTopic] = probaQ.T\n",
        "  # probabilitiesTotal        = (probabilities + probabilitiesQ)/2\n",
        "\n",
        "\n",
        "\n",
        "ypred = torch.argmax(probabilities, dim=1) + 1\n",
        "# ypredQ = torch.argmax(probabilitiesQ, dim=1) + 1\n",
        "# ypredTotal = torch.argmax(probabilitiesTotal, dim=1) + 1\n",
        "\n",
        "# y = dfMin['label']\n",
        "y = df['label']"
      ],
      "execution_count": null,
      "outputs": [
        {
          "output_type": "stream",
          "text": [
            "['Society', 'Culture']\n",
            "['Science', 'Mathematics']\n",
            "['Health']\n",
            "['Education', 'Reference']\n",
            "['Computers', 'Internet']\n",
            "['Sports']\n",
            "['Business', 'Finance']\n",
            "['Entertainment', 'Music']\n",
            "['Family', 'Relationship']\n",
            "['Politics', 'Government']\n"
          ],
          "name": "stdout"
        }
      ]
    },
    {
      "cell_type": "code",
      "metadata": {
        "colab": {
          "base_uri": "https://localhost:8080/"
        },
        "id": "VK-i1-zE2l1J",
        "outputId": "3b8ab783-d13d-4716-97e8-23755e489886"
      },
      "source": [
        "print(accuracy_score(y, ypred))"
      ],
      "execution_count": null,
      "outputs": [
        {
          "output_type": "stream",
          "text": [
            "0.43155953320816554\n"
          ],
          "name": "stdout"
        }
      ]
    },
    {
      "cell_type": "code",
      "metadata": {
        "id": "ywh7osw63C2d"
      },
      "source": [
        "cm = confusion_matrix(y, ypred)\n",
        "cmNorm = torch.tensor(data=cm, dtype=float)\n",
        "for i in range(len(cm)):\n",
        "  cmNorm[i, :] = cmNorm[i, :]/torch.sum(cmNorm[i, :])"
      ],
      "execution_count": null,
      "outputs": []
    },
    {
      "cell_type": "code",
      "metadata": {
        "colab": {
          "base_uri": "https://localhost:8080/",
          "height": 850
        },
        "id": "XTchS_ItoNJW",
        "outputId": "cbccf512-cbbb-42a0-adf1-d8a79f46abb9"
      },
      "source": [
        "plt.figure(figsize=(16, 12))\n",
        "sns.heatmap(cm, annot=True, xticklabels=topics, yticklabels=topics)\n",
        "plt.xlabel('Predicted')\n",
        "plt.ylabel('Actual')"
      ],
      "execution_count": null,
      "outputs": [
        {
          "output_type": "execute_result",
          "data": {
            "text/plain": [
              "Text(123.0, 0.5, 'Actual')"
            ]
          },
          "metadata": {
            "tags": []
          },
          "execution_count": 46
        },
        {
          "output_type": "display_data",
          "data": {
            "image/png": "[encoded data removed]",
            "text/plain": [
              "<Figure size 1152x864 with 2 Axes>"
            ]
          },
          "metadata": {
            "tags": [],
            "needs_background": "light"
          }
        }
      ]
    },
    {
      "cell_type": "code",
      "metadata": {
        "colab": {
          "base_uri": "https://localhost:8080/"
        },
        "id": "x8x9r7vZhtR2",
        "outputId": "5fc69ec2-d901-4f99-c100-daed4d6cd5d2"
      },
      "source": [
        "print(precision_score(y, ypred, average=None))\n",
        "print('Precision: {:0.3f}'.format(np.mean(precision_score(y, ypred, average='weighted'))))\n",
        "\n",
        "print(recall_score(y, ypred, average=None))\n",
        "print('Recall: {:0.3f}'.format(np.mean(recall_score(y, ypred, average='weighted'))))\n",
        "\n",
        "print(f1_score(y, ypred, average=None))\n",
        "print('F1: {:0.3f}'.format(np.mean(f1_score(y, ypred, average='weighted'))))"
      ],
      "execution_count": null,
      "outputs": [
        {
          "output_type": "stream",
          "text": [
            "[0.23683287 0.41458999 0.46039013 0.27591206 0.66945096 0.58811072\n",
            " 0.44680245 0.5184895  0.45411242 0.48627845]\n",
            "Precision: 0.460\n",
            "[0.22577406 0.56691423 0.70207922 0.1729255  0.75842637 0.80831601\n",
            " 0.19436183 0.5830837  0.60963479 0.46399489]\n",
            "Recall: 0.473\n",
            "[0.23117128 0.47893215 0.55610988 0.21260356 0.7111665  0.68085106\n",
            " 0.2708864  0.54889276 0.52050473 0.4748754 ]\n",
            "F1: 0.449\n"
          ],
          "name": "stdout"
        }
      ]
    },
    {
      "cell_type": "code",
      "metadata": {
        "colab": {
          "base_uri": "https://localhost:8080/",
          "height": 1000
        },
        "id": "8pttSmDcKxPf",
        "outputId": "87fa3889-c3ec-4ea0-bdc0-d9ca257ca22a"
      },
      "source": [
        "plt.figure(figsize=(20, 15))\n",
        "plt.bar(topics, np.diag(cm))"
      ],
      "execution_count": null,
      "outputs": [
        {
          "output_type": "stream",
          "text": [
            "/usr/local/lib/python3.6/dist-packages/numpy/core/_asarray.py:83: VisibleDeprecationWarning: Creating an ndarray from ragged nested sequences (which is a list-or-tuple of lists-or-tuples-or ndarrays with different lengths or shapes) is deprecated. If you meant to do this, you must specify 'dtype=object' when creating the ndarray\n",
            "  return array(a, dtype, copy=False, order=order)\n"
          ],
          "name": "stderr"
        },
        {
          "output_type": "error",
          "ename": "TypeError",
          "evalue": "ignored",
          "traceback": [
            "\u001b[0;31m---------------------------------------------------------------------------\u001b[0m",
            "\u001b[0;31mTypeError\u001b[0m                                 Traceback (most recent call last)",
            "\u001b[0;32m/usr/local/lib/python3.6/dist-packages/matplotlib/axes/_axes.py\u001b[0m in \u001b[0;36mbar\u001b[0;34m(self, x, height, width, bottom, align, **kwargs)\u001b[0m\n\u001b[1;32m   2369\u001b[0m                 \u001b[0;32mtry\u001b[0m\u001b[0;34m:\u001b[0m\u001b[0;34m\u001b[0m\u001b[0;34m\u001b[0m\u001b[0m\n\u001b[0;32m-> 2370\u001b[0;31m                     \u001b[0mleft\u001b[0m \u001b[0;34m=\u001b[0m \u001b[0mx\u001b[0m \u001b[0;34m-\u001b[0m \u001b[0mwidth\u001b[0m \u001b[0;34m/\u001b[0m \u001b[0;36m2\u001b[0m\u001b[0;34m\u001b[0m\u001b[0;34m\u001b[0m\u001b[0m\n\u001b[0m\u001b[1;32m   2371\u001b[0m                 \u001b[0;32mexcept\u001b[0m \u001b[0mTypeError\u001b[0m \u001b[0;32mas\u001b[0m \u001b[0me\u001b[0m\u001b[0;34m:\u001b[0m\u001b[0;34m\u001b[0m\u001b[0;34m\u001b[0m\u001b[0m\n",
            "\u001b[0;31mTypeError\u001b[0m: unsupported operand type(s) for -: 'list' and 'float'",
            "\nThe above exception was the direct cause of the following exception:\n",
            "\u001b[0;31mTypeError\u001b[0m                                 Traceback (most recent call last)",
            "\u001b[0;32m<ipython-input-104-c906eeceac86>\u001b[0m in \u001b[0;36m<module>\u001b[0;34m()\u001b[0m\n\u001b[1;32m      1\u001b[0m \u001b[0mplt\u001b[0m\u001b[0;34m.\u001b[0m\u001b[0mfigure\u001b[0m\u001b[0;34m(\u001b[0m\u001b[0mfigsize\u001b[0m\u001b[0;34m=\u001b[0m\u001b[0;34m(\u001b[0m\u001b[0;36m20\u001b[0m\u001b[0;34m,\u001b[0m \u001b[0;36m15\u001b[0m\u001b[0;34m)\u001b[0m\u001b[0;34m)\u001b[0m\u001b[0;34m\u001b[0m\u001b[0;34m\u001b[0m\u001b[0m\n\u001b[0;32m----> 2\u001b[0;31m \u001b[0mplt\u001b[0m\u001b[0;34m.\u001b[0m\u001b[0mbar\u001b[0m\u001b[0;34m(\u001b[0m\u001b[0mtopics\u001b[0m\u001b[0;34m,\u001b[0m \u001b[0mnp\u001b[0m\u001b[0;34m.\u001b[0m\u001b[0mdiag\u001b[0m\u001b[0;34m(\u001b[0m\u001b[0mcm\u001b[0m\u001b[0;34m)\u001b[0m\u001b[0;34m)\u001b[0m\u001b[0;34m\u001b[0m\u001b[0;34m\u001b[0m\u001b[0m\n\u001b[0m",
            "\u001b[0;32m/usr/local/lib/python3.6/dist-packages/matplotlib/pyplot.py\u001b[0m in \u001b[0;36mbar\u001b[0;34m(x, height, width, bottom, align, data, **kwargs)\u001b[0m\n\u001b[1;32m   2407\u001b[0m     return gca().bar(\n\u001b[1;32m   2408\u001b[0m         \u001b[0mx\u001b[0m\u001b[0;34m,\u001b[0m \u001b[0mheight\u001b[0m\u001b[0;34m,\u001b[0m \u001b[0mwidth\u001b[0m\u001b[0;34m=\u001b[0m\u001b[0mwidth\u001b[0m\u001b[0;34m,\u001b[0m \u001b[0mbottom\u001b[0m\u001b[0;34m=\u001b[0m\u001b[0mbottom\u001b[0m\u001b[0;34m,\u001b[0m \u001b[0malign\u001b[0m\u001b[0;34m=\u001b[0m\u001b[0malign\u001b[0m\u001b[0;34m,\u001b[0m\u001b[0;34m\u001b[0m\u001b[0;34m\u001b[0m\u001b[0m\n\u001b[0;32m-> 2409\u001b[0;31m         **({\"data\": data} if data is not None else {}), **kwargs)\n\u001b[0m\u001b[1;32m   2410\u001b[0m \u001b[0;34m\u001b[0m\u001b[0m\n\u001b[1;32m   2411\u001b[0m \u001b[0;34m\u001b[0m\u001b[0m\n",
            "\u001b[0;32m/usr/local/lib/python3.6/dist-packages/matplotlib/__init__.py\u001b[0m in \u001b[0;36minner\u001b[0;34m(ax, data, *args, **kwargs)\u001b[0m\n\u001b[1;32m   1563\u001b[0m     \u001b[0;32mdef\u001b[0m \u001b[0minner\u001b[0m\u001b[0;34m(\u001b[0m\u001b[0max\u001b[0m\u001b[0;34m,\u001b[0m \u001b[0;34m*\u001b[0m\u001b[0margs\u001b[0m\u001b[0;34m,\u001b[0m \u001b[0mdata\u001b[0m\u001b[0;34m=\u001b[0m\u001b[0;32mNone\u001b[0m\u001b[0;34m,\u001b[0m \u001b[0;34m**\u001b[0m\u001b[0mkwargs\u001b[0m\u001b[0;34m)\u001b[0m\u001b[0;34m:\u001b[0m\u001b[0;34m\u001b[0m\u001b[0;34m\u001b[0m\u001b[0m\n\u001b[1;32m   1564\u001b[0m         \u001b[0;32mif\u001b[0m \u001b[0mdata\u001b[0m \u001b[0;32mis\u001b[0m \u001b[0;32mNone\u001b[0m\u001b[0;34m:\u001b[0m\u001b[0;34m\u001b[0m\u001b[0;34m\u001b[0m\u001b[0m\n\u001b[0;32m-> 1565\u001b[0;31m             \u001b[0;32mreturn\u001b[0m \u001b[0mfunc\u001b[0m\u001b[0;34m(\u001b[0m\u001b[0max\u001b[0m\u001b[0;34m,\u001b[0m \u001b[0;34m*\u001b[0m\u001b[0mmap\u001b[0m\u001b[0;34m(\u001b[0m\u001b[0msanitize_sequence\u001b[0m\u001b[0;34m,\u001b[0m \u001b[0margs\u001b[0m\u001b[0;34m)\u001b[0m\u001b[0;34m,\u001b[0m \u001b[0;34m**\u001b[0m\u001b[0mkwargs\u001b[0m\u001b[0;34m)\u001b[0m\u001b[0;34m\u001b[0m\u001b[0;34m\u001b[0m\u001b[0m\n\u001b[0m\u001b[1;32m   1566\u001b[0m \u001b[0;34m\u001b[0m\u001b[0m\n\u001b[1;32m   1567\u001b[0m         \u001b[0mbound\u001b[0m \u001b[0;34m=\u001b[0m \u001b[0mnew_sig\u001b[0m\u001b[0;34m.\u001b[0m\u001b[0mbind\u001b[0m\u001b[0;34m(\u001b[0m\u001b[0max\u001b[0m\u001b[0;34m,\u001b[0m \u001b[0;34m*\u001b[0m\u001b[0margs\u001b[0m\u001b[0;34m,\u001b[0m \u001b[0;34m**\u001b[0m\u001b[0mkwargs\u001b[0m\u001b[0;34m)\u001b[0m\u001b[0;34m\u001b[0m\u001b[0;34m\u001b[0m\u001b[0m\n",
            "\u001b[0;32m/usr/local/lib/python3.6/dist-packages/matplotlib/axes/_axes.py\u001b[0m in \u001b[0;36mbar\u001b[0;34m(self, x, height, width, bottom, align, **kwargs)\u001b[0m\n\u001b[1;32m   2372\u001b[0m                     raise TypeError(f'the dtypes of parameters x ({x.dtype}) '\n\u001b[1;32m   2373\u001b[0m                                     \u001b[0;34mf'and width ({width.dtype}) '\u001b[0m\u001b[0;34m\u001b[0m\u001b[0;34m\u001b[0m\u001b[0m\n\u001b[0;32m-> 2374\u001b[0;31m                                     f'are incompatible') from e\n\u001b[0m\u001b[1;32m   2375\u001b[0m                 \u001b[0mbottom\u001b[0m \u001b[0;34m=\u001b[0m \u001b[0my\u001b[0m\u001b[0;34m\u001b[0m\u001b[0;34m\u001b[0m\u001b[0m\n\u001b[1;32m   2376\u001b[0m             \u001b[0;32melif\u001b[0m \u001b[0morientation\u001b[0m \u001b[0;34m==\u001b[0m \u001b[0;34m'horizontal'\u001b[0m\u001b[0;34m:\u001b[0m\u001b[0;34m\u001b[0m\u001b[0;34m\u001b[0m\u001b[0m\n",
            "\u001b[0;31mTypeError\u001b[0m: the dtypes of parameters x (object) and width (float64) are incompatible"
          ]
        },
        {
          "output_type": "display_data",
          "data": {
            "image/png": "[encoded data removed]",
            "text/plain": [
              "<Figure size 1440x1080 with 1 Axes>"
            ]
          },
          "metadata": {
            "tags": [],
            "needs_background": "light"
          }
        }
      ]
    },
    {
      "cell_type": "code",
      "metadata": {
        "id": "y3xZm9-H_fxY",
        "colab": {
          "base_uri": "https://localhost:8080/"
        },
        "outputId": "61b79f83-8315-4627-8985-370eb9ca7bfb"
      },
      "source": [
        "p = probabilitiesDescription\n",
        "print(p.shape)\n",
        "classIdx = 10\n",
        "idx = list(dfMin['label'] == classIdx)\n",
        "idxNot = [not x for x in idx]"
      ],
      "execution_count": null,
      "outputs": [
        {
          "output_type": "stream",
          "text": [
            "torch.Size([10000, 10])\n"
          ],
          "name": "stdout"
        }
      ]
    },
    {
      "cell_type": "code",
      "metadata": {
        "colab": {
          "base_uri": "https://localhost:8080/",
          "height": 717
        },
        "id": "rz21em2ba_zK",
        "outputId": "a7db786c-bfea-48db-9a4f-73f8450fb6a8"
      },
      "source": [
        "plt.figure(figsize=(16, 12))\n",
        "plt.plot(p[idx, classIdx-1], 'ro')\n",
        "plt.plot(p[idxNot, classIdx-1], 'bx')\n",
        "plt.xlim([0, 1000])"
      ],
      "execution_count": null,
      "outputs": [
        {
          "output_type": "execute_result",
          "data": {
            "text/plain": [
              "(0.0, 1000.0)"
            ]
          },
          "metadata": {
            "tags": []
          },
          "execution_count": 159
        },
        {
          "output_type": "display_data",
          "data": {
            "image/png": "[encoded data removed]",
            "text/plain": [
              "<Figure size 1152x864 with 1 Axes>"
            ]
          },
          "metadata": {
            "tags": [],
            "needs_background": "light"
          }
        }
      ]
    },
    {
      "cell_type": "markdown",
      "metadata": {
        "id": "FD2GiGH69nvl"
      },
      "source": [
        "#### kNN with cosine"
      ]
    },
    {
      "cell_type": "code",
      "metadata": {
        "colab": {
          "base_uri": "https://localhost:8080/"
        },
        "id": "t1qyXPlS9qxz",
        "outputId": "83b6682d-11d2-494b-864f-577a0a426dee"
      },
      "source": [
        "# Construct distances matrix\n",
        "X = torch.zeros(size=(nSentences, len(topics) * nRelatedSentences))\n",
        "\n",
        "start = 0\n",
        "for (iTopic, topic) in enumerate(topics):\n",
        "  print(topic)\n",
        "\n",
        "  relatedEmbeddingsArr = relatedEmbeddingsPCA[iTopic]\n",
        "\n",
        "  for iSentence in range(nSentences):\n",
        "    nextFree = start\n",
        "    for iKeyword in range(nRelatedSentences):\n",
        "      X[iSentence][nextFree] = getSimilarity(embeddingsArr[iSentence], relatedEmbeddingsArr[iKeyword])\n",
        "      nextFree += 1\n",
        "\n",
        "  start += nRelatedSentences"
      ],
      "execution_count": null,
      "outputs": [
        {
          "output_type": "stream",
          "text": [
            "Society\n",
            "Science\n",
            "Health\n",
            "Education\n",
            "Computers\n",
            "Sports\n",
            "Business\n",
            "Entertainment\n",
            "Family\n",
            "Politics\n"
          ],
          "name": "stdout"
        }
      ]
    },
    {
      "cell_type": "code",
      "metadata": {
        "id": "LzPiuDAe9tnD"
      },
      "source": [
        "ypred = np.zeros((nSentences, ))\n",
        "y = np.asarray(dfMin['label'])\n",
        "\n",
        "acc  = []\n",
        "prec = []\n",
        "rec  = []\n",
        "f1   = []\n",
        "rng = range(1, 200, 10)\n",
        "for k in rng:\n",
        "  for i in range(nSentences):\n",
        "    idx = np.argpartition(X[i, :], -k)[-k:]\n",
        "\n",
        "    tmpIdx = idx.clone().detach()\n",
        "\n",
        "    tmpIdx[idx>=9*nRelatedSentences] = 10\n",
        "    idx[idx>=9*nRelatedSentences] = -1\n",
        "\n",
        "    tmpIdx[idx>=8*nRelatedSentences] = 9\n",
        "    idx[idx>=8*nRelatedSentences] = -1\n",
        "\n",
        "    tmpIdx[idx>=7*nRelatedSentences] = 8\n",
        "    idx[idx>=7*nRelatedSentences] = -1\n",
        "\n",
        "    tmpIdx[idx>=6*nRelatedSentences] = 7\n",
        "    idx[idx>=6*nRelatedSentences] = -1\n",
        "\n",
        "    tmpIdx[idx>=5*nRelatedSentences] = 6\n",
        "    idx[idx>=5*nRelatedSentences] = -1\n",
        "\n",
        "    tmpIdx[idx>=4*nRelatedSentences] = 5\n",
        "    idx[idx>=4*nRelatedSentences] = -1\n",
        "    \n",
        "    tmpIdx[idx>=3*nRelatedSentences] = 4\n",
        "    idx[idx>=3*nRelatedSentences] = -1\n",
        "\n",
        "    tmpIdx[idx>=2*nRelatedSentences] = 3\n",
        "    idx[idx>=2*nRelatedSentences] = -1\n",
        "\n",
        "    tmpIdx[idx>=1*nRelatedSentences] = 2\n",
        "    idx[idx>=1*nRelatedSentences] = -1\n",
        "\n",
        "    tmpIdx[idx>=0*nRelatedSentences] = 1\n",
        "    idx[idx>=0*nRelatedSentences] = -1\n",
        "\n",
        "    ypred[i] = torch.mode(tmpIdx).values.item()\n",
        "\n",
        "  acc.append(accuracy_score(y, ypred))\n",
        "  prec.append(precision_score(y, ypred, average='weighted'))\n",
        "  rec.append(recall_score(y, ypred, average='weighted'))\n",
        "  f1.append(f1_score(y, ypred, average='weighted'))\n"
      ],
      "execution_count": null,
      "outputs": []
    },
    {
      "cell_type": "code",
      "metadata": {
        "colab": {
          "base_uri": "https://localhost:8080/",
          "height": 282
        },
        "id": "9juyE261-Mew",
        "outputId": "76411f3a-1cef-4370-c706-bc314493c2ff"
      },
      "source": [
        "plt.plot(rng, f1)"
      ],
      "execution_count": null,
      "outputs": [
        {
          "output_type": "execute_result",
          "data": {
            "text/plain": [
              "[<matplotlib.lines.Line2D at 0x7f8bb19b5470>]"
            ]
          },
          "metadata": {
            "tags": []
          },
          "execution_count": 90
        },
        {
          "output_type": "display_data",
          "data": {
            "image/png": "[encoded data removed]",
            "text/plain": [
              "<Figure size 432x288 with 1 Axes>"
            ]
          },
          "metadata": {
            "tags": [],
            "needs_background": "light"
          }
        }
      ]
    },
    {
      "cell_type": "code",
      "metadata": {
        "colab": {
          "base_uri": "https://localhost:8080/"
        },
        "id": "v8cHJxHq-Oww",
        "outputId": "bd83e27f-b6aa-49cc-ac71-20642c92a670"
      },
      "source": [
        "idx = np.argmax(f1)\n",
        "k = rng[idx]\n",
        "\n",
        "print(k)\n",
        "print('Precision: {:0.3f}'.format(prec[idx]))\n",
        "print('Recall: {:0.3f}'.format(rec[idx]))\n",
        "print('F1: {:0.3f}'.format(f1[idx]))\n"
      ],
      "execution_count": null,
      "outputs": [
        {
          "output_type": "stream",
          "text": [
            "91\n",
            "Precision: 0.459\n",
            "Recall: 0.453\n",
            "F1: 0.449\n"
          ],
          "name": "stdout"
        }
      ]
    },
    {
      "cell_type": "markdown",
      "metadata": {
        "id": "ex8zveP1-OT9"
      },
      "source": [
        "#### kNN"
      ]
    },
    {
      "cell_type": "code",
      "metadata": {
        "id": "CRF46lzw95gG"
      },
      "source": [
        "from sklearn.neighbors import KNeighborsClassifier"
      ],
      "execution_count": null,
      "outputs": []
    },
    {
      "cell_type": "code",
      "metadata": {
        "id": "oRNlhNxs-a7c"
      },
      "source": [
        "nRelatedSentencesArr = [nRelatedSentences]*nTopics\n",
        "X = np.zeros((sum(nRelatedSentencesArr), 50))\n",
        "ytrain = np.zeros((sum(nRelatedSentencesArr), 1))\n",
        "for (iTopic, topic) in enumerate(topics):\n",
        "  X[sum(nRelatedSentencesArr[0:iTopic]) : sum(nRelatedSentencesArr[0:iTopic+1]), :] = relatedEmbeddingsPCA[iTopic]\n",
        "  ytrain[sum(nRelatedSentencesArr[0:iTopic]) : sum(nRelatedSentencesArr[0:iTopic+1])] = iTopic + 1"
      ],
      "execution_count": null,
      "outputs": []
    },
    {
      "cell_type": "code",
      "metadata": {
        "id": "FG4XgAdt-nX1"
      },
      "source": [
        "acc = []\n",
        "for k in range(2, 100, 5):\n",
        "  knn = KNeighborsClassifier(n_neighbors=k, p=2, weights='distance')\n",
        "  knn.fit(X, ytrain)\n",
        "  ypred = knn.predict(embeddingsArr)\n",
        "  acc.append(accuracy_score(y, ypred))"
      ],
      "execution_count": null,
      "outputs": []
    },
    {
      "cell_type": "code",
      "metadata": {
        "colab": {
          "base_uri": "https://localhost:8080/",
          "height": 282
        },
        "id": "o7TYS2oY-pTZ",
        "outputId": "b68a8149-a32c-47a4-d709-d55d36214135"
      },
      "source": [
        "plt.plot(range(1, 100, 5), acc)"
      ],
      "execution_count": null,
      "outputs": [
        {
          "output_type": "execute_result",
          "data": {
            "text/plain": [
              "[<matplotlib.lines.Line2D at 0x7f5e920f2860>]"
            ]
          },
          "metadata": {
            "tags": []
          },
          "execution_count": 94
        },
        {
          "output_type": "display_data",
          "data": {
            "image/png": "[encoded data removed]",
            "text/plain": [
              "<Figure size 432x288 with 1 Axes>"
            ]
          },
          "metadata": {
            "tags": [],
            "needs_background": "light"
          }
        }
      ]
    },
    {
      "cell_type": "code",
      "metadata": {
        "id": "PZPsmjUF-reI"
      },
      "source": [
        ""
      ],
      "execution_count": null,
      "outputs": []
    }
  ]
}